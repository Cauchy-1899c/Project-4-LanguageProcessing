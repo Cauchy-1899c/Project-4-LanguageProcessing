{
 "cells": [
  {
   "cell_type": "markdown",
   "metadata": {},
   "source": [
    "Some useful links:\n",
    "\n",
    "https://neptune.ai/blog/exploratory-data-analysis-natural-language-processing-tools?utm_source=facebook&utm_medium=post-in-group&utm_campaign=blog-exploratory-data-analysis-natural-language-processing-tools&utm_content=blog&fbclid=IwAR148hGI98-F1zknPfnPNyORuTD43VX9oxXcg5XWit_1rEmHVG3KnFa-o0o\n",
    "\n",
    "https://www.analyticsvidhya.com/blog/2018/02/the-different-methods-deal-text-data-predictive-python/\n",
    "\n",
    "https://data-flair.training/blogs/advanced-python-project-detecting-fake-news/"
   ]
  },
  {
   "cell_type": "code",
   "execution_count": 51,
   "metadata": {},
   "outputs": [],
   "source": [
    "import pandas as pd\n",
    "import numpy as np\n",
    "import matplotlib.pyplot as plt\n",
    "import pickle\n",
    "\n",
    "import gensim\n",
    "from gensim.utils import simple_preprocess\n",
    "from gensim.parsing.preprocessing import STOPWORDS\n",
    "from nltk.stem import WordNetLemmatizer, SnowballStemmer\n",
    "from nltk.stem.porter import *\n",
    "np.random.seed(31321)\n",
    "\n",
    "import nltk"
   ]
  },
  {
   "cell_type": "code",
   "execution_count": 52,
   "metadata": {},
   "outputs": [],
   "source": [
    "news = pd.read_csv('/home/mateusz/Dokumenty/abcnews-date-text.csv',nrows = 20000, error_bad_lines=False); #loading the data and selecting 20,000 headlines\n",
    "#data_text = data[['headline_text']]\n",
    "#data_text['index'] = data_text.index\n",
    "#documents = data_text[0:200000]"
   ]
  },
  {
   "cell_type": "code",
   "execution_count": 53,
   "metadata": {},
   "outputs": [
    {
     "data": {
      "text/html": [
       "<div>\n",
       "<style scoped>\n",
       "    .dataframe tbody tr th:only-of-type {\n",
       "        vertical-align: middle;\n",
       "    }\n",
       "\n",
       "    .dataframe tbody tr th {\n",
       "        vertical-align: top;\n",
       "    }\n",
       "\n",
       "    .dataframe thead th {\n",
       "        text-align: right;\n",
       "    }\n",
       "</style>\n",
       "<table border=\"1\" class=\"dataframe\">\n",
       "  <thead>\n",
       "    <tr style=\"text-align: right;\">\n",
       "      <th></th>\n",
       "      <th>publish_date</th>\n",
       "      <th>headline_text</th>\n",
       "    </tr>\n",
       "  </thead>\n",
       "  <tbody>\n",
       "    <tr>\n",
       "      <td>0</td>\n",
       "      <td>20030219</td>\n",
       "      <td>aba decides against community broadcasting lic...</td>\n",
       "    </tr>\n",
       "    <tr>\n",
       "      <td>1</td>\n",
       "      <td>20030219</td>\n",
       "      <td>act fire witnesses must be aware of defamation</td>\n",
       "    </tr>\n",
       "    <tr>\n",
       "      <td>2</td>\n",
       "      <td>20030219</td>\n",
       "      <td>a g calls for infrastructure protection summit</td>\n",
       "    </tr>\n",
       "  </tbody>\n",
       "</table>\n",
       "</div>"
      ],
      "text/plain": [
       "   publish_date                                      headline_text\n",
       "0      20030219  aba decides against community broadcasting lic...\n",
       "1      20030219     act fire witnesses must be aware of defamation\n",
       "2      20030219     a g calls for infrastructure protection summit"
      ]
     },
     "execution_count": 53,
     "metadata": {},
     "output_type": "execute_result"
    }
   ],
   "source": [
    "news.head(3)"
   ]
  },
  {
   "cell_type": "code",
   "execution_count": 54,
   "metadata": {},
   "outputs": [
    {
     "name": "stdout",
     "output_type": "stream",
     "text": [
      "20000\n",
      "   publish_date                                      headline_text\n",
      "0      20030219  aba decides against community broadcasting lic...\n",
      "1      20030219     act fire witnesses must be aware of defamation\n",
      "2      20030219     a g calls for infrastructure protection summit\n",
      "3      20030219           air nz staff in aust strike for pay rise\n",
      "4      20030219      air nz strike to affect australian travellers\n"
     ]
    }
   ],
   "source": [
    "print(len(news)) #displaying the length and the fist five headlines\n",
    "print(news[:5])"
   ]
  },
  {
   "cell_type": "markdown",
   "metadata": {},
   "source": [
    "we choose 20,000 headlines"
   ]
  },
  {
   "cell_type": "code",
   "execution_count": 55,
   "metadata": {},
   "outputs": [
    {
     "data": {
      "text/html": [
       "<div>\n",
       "<style scoped>\n",
       "    .dataframe tbody tr th:only-of-type {\n",
       "        vertical-align: middle;\n",
       "    }\n",
       "\n",
       "    .dataframe tbody tr th {\n",
       "        vertical-align: top;\n",
       "    }\n",
       "\n",
       "    .dataframe thead th {\n",
       "        text-align: right;\n",
       "    }\n",
       "</style>\n",
       "<table border=\"1\" class=\"dataframe\">\n",
       "  <thead>\n",
       "    <tr style=\"text-align: right;\">\n",
       "      <th></th>\n",
       "      <th>publish_date</th>\n",
       "      <th>headline_text</th>\n",
       "    </tr>\n",
       "  </thead>\n",
       "  <tbody>\n",
       "    <tr>\n",
       "      <td>0</td>\n",
       "      <td>20030219</td>\n",
       "      <td>aba decides against community broadcasting lic...</td>\n",
       "    </tr>\n",
       "    <tr>\n",
       "      <td>1</td>\n",
       "      <td>20030219</td>\n",
       "      <td>act fire witnesses must be aware of defamation</td>\n",
       "    </tr>\n",
       "    <tr>\n",
       "      <td>2</td>\n",
       "      <td>20030219</td>\n",
       "      <td>a g calls for infrastructure protection summit</td>\n",
       "    </tr>\n",
       "    <tr>\n",
       "      <td>3</td>\n",
       "      <td>20030219</td>\n",
       "      <td>air nz staff in aust strike for pay rise</td>\n",
       "    </tr>\n",
       "    <tr>\n",
       "      <td>4</td>\n",
       "      <td>20030219</td>\n",
       "      <td>air nz strike to affect australian travellers</td>\n",
       "    </tr>\n",
       "  </tbody>\n",
       "</table>\n",
       "</div>"
      ],
      "text/plain": [
       "   publish_date                                      headline_text\n",
       "0      20030219  aba decides against community broadcasting lic...\n",
       "1      20030219     act fire witnesses must be aware of defamation\n",
       "2      20030219     a g calls for infrastructure protection summit\n",
       "3      20030219           air nz staff in aust strike for pay rise\n",
       "4      20030219      air nz strike to affect australian travellers"
      ]
     },
     "execution_count": 55,
     "metadata": {},
     "output_type": "execute_result"
    }
   ],
   "source": [
    "news.head()"
   ]
  },
  {
   "cell_type": "code",
   "execution_count": 78,
   "metadata": {},
   "outputs": [
    {
     "data": {
      "text/plain": [
       "<matplotlib.axes._subplots.AxesSubplot at 0x7f33680cd750>"
      ]
     },
     "execution_count": 78,
     "metadata": {},
     "output_type": "execute_result"
    },
    {
     "data": {
      "image/png": "[encoded data removed]",
      "text/plain": [
       "<Figure size 432x288 with 1 Axes>"
      ]
     },
     "metadata": {
      "needs_background": "light"
     },
     "output_type": "display_data"
    }
   ],
   "source": [
    "news['headline_text'].str.len().hist() #converting the dataframe into string and ploting the histogram of lenght of the headlines. righly skewed normal distribution"
   ]
  },
  {
   "cell_type": "markdown",
   "metadata": {},
   "source": [
    "The news headlines range from  10 to 70 and it's usually is between 25 and 50"
   ]
  },
  {
   "cell_type": "markdown",
   "metadata": {},
   "source": [
    "Let's plot the number of words appearing in each news headline"
   ]
  },
  {
   "cell_type": "code",
   "execution_count": 9,
   "metadata": {},
   "outputs": [
    {
     "data": {
      "text/plain": [
       "<matplotlib.axes._subplots.AxesSubplot at 0x7f3372c60710>"
      ]
     },
     "execution_count": 9,
     "metadata": {},
     "output_type": "execute_result"
    },
    {
     "data": {
      "image/png": "[encoded data removed]",
      "text/plain": [
       "<Figure size 432x288 with 1 Axes>"
      ]
     },
     "metadata": {
      "needs_background": "light"
     },
     "output_type": "display_data"
    }
   ],
   "source": [
    "news['headline_text'].str.split().\\ #converting DataFrame into string and splitting headlines into words. plotting the length of the words on the histogram\n",
    "    map(lambda x: len(x)).\\ #reesmble normal distribution\n",
    "    hist()"
   ]
  },
  {
   "cell_type": "markdown",
   "metadata": {},
   "source": [
    "The number of words in the headline ranges from 2 to 12 and t resembles normal distribuiton"
   ]
  },
  {
   "cell_type": "markdown",
   "metadata": {},
   "source": [
    "let's check the average word length in each sentence"
   ]
  },
  {
   "cell_type": "code",
   "execution_count": 10,
   "metadata": {},
   "outputs": [
    {
     "data": {
      "text/plain": [
       "<matplotlib.axes._subplots.AxesSubplot at 0x7f3371e5d890>"
      ]
     },
     "execution_count": 10,
     "metadata": {},
     "output_type": "execute_result"
    },
    {
     "data": {
      "image/png": "[encoded data removed]",
      "text/plain": [
       "<Figure size 432x288 with 1 Axes>"
      ]
     },
     "metadata": {
      "needs_background": "light"
     },
     "output_type": "display_data"
    }
   ],
   "source": [
    "news['headline_text'].str.split().\\ #dataframe into string and splitting into words.\n",
    "    apply(lambda x: [len(i) for i in x]).\\ #loop returns the length of each words\n",
    "    map(lambda x: np.mean(x)).hist() #plot the mean of each word in each headline"
   ]
  },
  {
   "cell_type": "markdown",
   "metadata": {},
   "source": [
    "From the histogram above it's seen that htt average word length ranges between 3 and 9 with 5 being the most common length. \n",
    "However, this may be biased by the stopwords: short words commonly used in any language such as 'the', 'a', 'an'. These words are causing the graph to be skewed to the left.\n",
    "\n",
    "Getting insight on the number of stopwords and the lenght ma be valuable in our analysis.\n"
   ]
  },
  {
   "cell_type": "markdown",
   "metadata": {},
   "source": [
    "To get the corpus containing stopwords we are going to use the nltk library which contatins stopwords form many languages.\n",
    "Here, we're going to filter the ENglish stopwords from the corpus."
   ]
  },
  {
   "cell_type": "code",
   "execution_count": 11,
   "metadata": {},
   "outputs": [
    {
     "name": "stderr",
     "output_type": "stream",
     "text": [
      "[nltk_data] Downloading package stopwords to\n",
      "[nltk_data]     /home/mateusz/nltk_data...\n",
      "[nltk_data]   Package stopwords is already up-to-date!\n"
     ]
    }
   ],
   "source": [
    "from nltk.corpus import stopwords\n",
    "nltk.download('stopwords')\n",
    "stop=set(stopwords.words('english'))"
   ]
  },
  {
   "cell_type": "markdown",
   "metadata": {},
   "source": [
    "The number and list of all stopwords in English."
   ]
  },
  {
   "cell_type": "code",
   "execution_count": 12,
   "metadata": {},
   "outputs": [
    {
     "name": "stdout",
     "output_type": "stream",
     "text": [
      "179\n"
     ]
    },
    {
     "data": {
      "text/plain": [
       "{'a',\n",
       " 'about',\n",
       " 'above',\n",
       " 'after',\n",
       " 'again',\n",
       " 'against',\n",
       " 'ain',\n",
       " 'all',\n",
       " 'am',\n",
       " 'an',\n",
       " 'and',\n",
       " 'any',\n",
       " 'are',\n",
       " 'aren',\n",
       " \"aren't\",\n",
       " 'as',\n",
       " 'at',\n",
       " 'be',\n",
       " 'because',\n",
       " 'been',\n",
       " 'before',\n",
       " 'being',\n",
       " 'below',\n",
       " 'between',\n",
       " 'both',\n",
       " 'but',\n",
       " 'by',\n",
       " 'can',\n",
       " 'couldn',\n",
       " \"couldn't\",\n",
       " 'd',\n",
       " 'did',\n",
       " 'didn',\n",
       " \"didn't\",\n",
       " 'do',\n",
       " 'does',\n",
       " 'doesn',\n",
       " \"doesn't\",\n",
       " 'doing',\n",
       " 'don',\n",
       " \"don't\",\n",
       " 'down',\n",
       " 'during',\n",
       " 'each',\n",
       " 'few',\n",
       " 'for',\n",
       " 'from',\n",
       " 'further',\n",
       " 'had',\n",
       " 'hadn',\n",
       " \"hadn't\",\n",
       " 'has',\n",
       " 'hasn',\n",
       " \"hasn't\",\n",
       " 'have',\n",
       " 'haven',\n",
       " \"haven't\",\n",
       " 'having',\n",
       " 'he',\n",
       " 'her',\n",
       " 'here',\n",
       " 'hers',\n",
       " 'herself',\n",
       " 'him',\n",
       " 'himself',\n",
       " 'his',\n",
       " 'how',\n",
       " 'i',\n",
       " 'if',\n",
       " 'in',\n",
       " 'into',\n",
       " 'is',\n",
       " 'isn',\n",
       " \"isn't\",\n",
       " 'it',\n",
       " \"it's\",\n",
       " 'its',\n",
       " 'itself',\n",
       " 'just',\n",
       " 'll',\n",
       " 'm',\n",
       " 'ma',\n",
       " 'me',\n",
       " 'mightn',\n",
       " \"mightn't\",\n",
       " 'more',\n",
       " 'most',\n",
       " 'mustn',\n",
       " \"mustn't\",\n",
       " 'my',\n",
       " 'myself',\n",
       " 'needn',\n",
       " \"needn't\",\n",
       " 'no',\n",
       " 'nor',\n",
       " 'not',\n",
       " 'now',\n",
       " 'o',\n",
       " 'of',\n",
       " 'off',\n",
       " 'on',\n",
       " 'once',\n",
       " 'only',\n",
       " 'or',\n",
       " 'other',\n",
       " 'our',\n",
       " 'ours',\n",
       " 'ourselves',\n",
       " 'out',\n",
       " 'over',\n",
       " 'own',\n",
       " 're',\n",
       " 's',\n",
       " 'same',\n",
       " 'shan',\n",
       " \"shan't\",\n",
       " 'she',\n",
       " \"she's\",\n",
       " 'should',\n",
       " \"should've\",\n",
       " 'shouldn',\n",
       " \"shouldn't\",\n",
       " 'so',\n",
       " 'some',\n",
       " 'such',\n",
       " 't',\n",
       " 'than',\n",
       " 'that',\n",
       " \"that'll\",\n",
       " 'the',\n",
       " 'their',\n",
       " 'theirs',\n",
       " 'them',\n",
       " 'themselves',\n",
       " 'then',\n",
       " 'there',\n",
       " 'these',\n",
       " 'they',\n",
       " 'this',\n",
       " 'those',\n",
       " 'through',\n",
       " 'to',\n",
       " 'too',\n",
       " 'under',\n",
       " 'until',\n",
       " 'up',\n",
       " 've',\n",
       " 'very',\n",
       " 'was',\n",
       " 'wasn',\n",
       " \"wasn't\",\n",
       " 'we',\n",
       " 'were',\n",
       " 'weren',\n",
       " \"weren't\",\n",
       " 'what',\n",
       " 'when',\n",
       " 'where',\n",
       " 'which',\n",
       " 'while',\n",
       " 'who',\n",
       " 'whom',\n",
       " 'why',\n",
       " 'will',\n",
       " 'with',\n",
       " 'won',\n",
       " \"won't\",\n",
       " 'wouldn',\n",
       " \"wouldn't\",\n",
       " 'y',\n",
       " 'you',\n",
       " \"you'd\",\n",
       " \"you'll\",\n",
       " \"you're\",\n",
       " \"you've\",\n",
       " 'your',\n",
       " 'yours',\n",
       " 'yourself',\n",
       " 'yourselves'}"
      ]
     },
     "execution_count": 12,
     "metadata": {},
     "output_type": "execute_result"
    }
   ],
   "source": [
    "print(len(stop))\n",
    "stop"
   ]
  },
  {
   "cell_type": "markdown",
   "metadata": {},
   "source": [
    "Creating the corpus"
   ]
  },
  {
   "cell_type": "code",
   "execution_count": 13,
   "metadata": {},
   "outputs": [],
   "source": [
    "corpus = []\n",
    "new =news['headline_text'].str.split()\n",
    "new = new.values.tolist()\n",
    "corpus=[word for i in new for word in i]\n",
    "\n",
    "from collections import defaultdict\n",
    "dic=defaultdict(int)\n",
    "for word in corpus:\n",
    "    if word in stop:\n",
    "        dic[word]+=1"
   ]
  },
  {
   "cell_type": "code",
   "execution_count": 14,
   "metadata": {},
   "outputs": [],
   "source": [
    "from collections import Counter\n",
    "import seaborn as sns"
   ]
  },
  {
   "cell_type": "code",
   "execution_count": 15,
   "metadata": {},
   "outputs": [
    {
     "data": {
      "text/plain": [
       "<matplotlib.axes._subplots.AxesSubplot at 0x7f33714502d0>"
      ]
     },
     "execution_count": 15,
     "metadata": {},
     "output_type": "execute_result"
    },
    {
     "data": {
      "image/png": "[encoded data removed]",
      "text/plain": [
       "<Figure size 432x288 with 1 Axes>"
      ]
     },
     "metadata": {
      "needs_background": "light"
     },
     "output_type": "display_data"
    }
   ],
   "source": [
    "counter=Counter(corpus)\n",
    "most=counter.most_common()\n",
    "\n",
    "x, y = [], []\n",
    "for word, count in most[:40]:\n",
    "    if (word not in stop):\n",
    "        y.append(word)\n",
    "        x.append(count)\n",
    "        \n",
    "sns.barplot(x=x, y=y)"
   ]
  },
  {
   "cell_type": "markdown",
   "metadata": {},
   "source": [
    "it turns out that us and police are the most often ocurring words in the headlines"
   ]
  },
  {
   "cell_type": "markdown",
   "metadata": {},
   "source": [
    "Ngram exploration"
   ]
  },
  {
   "cell_type": "code",
   "execution_count": 16,
   "metadata": {},
   "outputs": [],
   "source": [
    "from nltk.util import ngrams"
   ]
  },
  {
   "cell_type": "markdown",
   "metadata": {},
   "source": [
    "To build a representation of our vocabulary we will use Countervectorizer which is a simple method used to tokenize, vectorize and represent the corpus in an appropriate form."
   ]
  },
  {
   "cell_type": "code",
   "execution_count": 27,
   "metadata": {},
   "outputs": [],
   "source": [
    "from sklearn.feature_extraction.text import CountVectorizer"
   ]
  },
  {
   "cell_type": "code",
   "execution_count": 40,
   "metadata": {},
   "outputs": [],
   "source": [
    "def get_top_ngram(corpus, n=None):\n",
    "    vec = CountVectorizer(ngram_range=(n, n)).fit(corpus)\n",
    "    bag_of_words = vec.transform(corpus)\n",
    "    sum_words = bag_of_words.sum(axis=0)\n",
    "    words_freq = [(word, sum_words[0, idx]) for word, idx in vec.vocabulary_.items()]\n",
    "    words_freq=sorted(words_freq, key = lambda x: x[1], reverse=True)\n",
    "    return words_freq[:10]"
   ]
  },
  {
   "cell_type": "markdown",
   "metadata": {},
   "source": [
    "The top 5 bigrams"
   ]
  },
  {
   "cell_type": "code",
   "execution_count": 58,
   "metadata": {},
   "outputs": [
    {
     "data": {
      "text/plain": [
       "<matplotlib.axes._subplots.AxesSubplot at 0x7f336e674810>"
      ]
     },
     "execution_count": 58,
     "metadata": {},
     "output_type": "execute_result"
    },
    {
     "data": {
      "image/png": "[encoded data removed]",
      "text/plain": [
       "<Figure size 1440x720 with 1 Axes>"
      ]
     },
     "metadata": {
      "needs_background": "light"
     },
     "output_type": "display_data"
    }
   ],
   "source": [
    "top_n_bigrams=get_top_ngram(news['headline_text'],2)[:10]\n",
    "x, y=map(list,zip(*top_n_bigrams))\n",
    "plt.figure(figsize=(20,10))\n",
    "sns.barplot(x=x, y=y)"
   ]
  },
  {
   "cell_type": "code",
   "execution_count": 57,
   "metadata": {},
   "outputs": [
    {
     "data": {
      "text/plain": [
       "<matplotlib.axes._subplots.AxesSubplot at 0x7f336f0a8390>"
      ]
     },
     "execution_count": 57,
     "metadata": {},
     "output_type": "execute_result"
    },
    {
     "data": {
      "image/png": "[encoded data removed]",
      "text/plain": [
       "<Figure size 1440x720 with 1 Axes>"
      ]
     },
     "metadata": {
      "needs_background": "light"
     },
     "output_type": "display_data"
    }
   ],
   "source": [
    "top_n_trigrams = get_top_ngram(news['headline_text'],3)[:10]\n",
    "x, y=map(list, zip(*top_n_trigrams))\n",
    "plt.figure(figsize=(20,10))\n",
    "sns.barplot(x=x, y=y)"
   ]
  },
  {
   "cell_type": "markdown",
   "metadata": {},
   "source": [
    "Some of these trigrams are combinations of 'to face court' hence more effort should be put to cleanse the data"
   ]
  },
  {
   "cell_type": "markdown",
   "metadata": {},
   "source": [
    "Now, we are diving into topic modelling exploration with pyLDAvis"
   ]
  },
  {
   "cell_type": "markdown",
   "metadata": {},
   "source": [
    "Topic modelling is the process of using unsupervised learning techniques to extract the main topics that occure in a collection of documents"
   ]
  },
  {
   "cell_type": "markdown",
   "metadata": {},
   "source": [
    "Latent Dirichlet Allocation (LDA) is an easy to use and efficient model for topic modelling. Each documetn is represented by the distribution of topics and eac topic is represented by the distribution of words."
   ]
  },
  {
   "cell_type": "markdown",
   "metadata": {},
   "source": [
    "Before we get into topic modelling we should pre-process the data by:\n",
    "    tokenizing: sentences are converted to a list of tokens or words\n",
    "    removing stopwords\n",
    "    lemmatizing - reducing the inflectional forms of each word into a common base or root\n",
    "    converting to the bag of words - bag-of-words is a dictionary where the keys are words (or ngrams/tokens) and values are the number of times each word occurs in the corpus https://machinelearningmastery.com/gentle-introduction-bag-words-model/"
   ]
  },
  {
   "cell_type": "code",
   "execution_count": 59,
   "metadata": {},
   "outputs": [
    {
     "name": "stderr",
     "output_type": "stream",
     "text": [
      "[nltk_data] Downloading package punkt to /home/mateusz/nltk_data...\n",
      "[nltk_data]   Package punkt is already up-to-date!\n",
      "[nltk_data] Downloading package wordnet to /home/mateusz/nltk_data...\n",
      "[nltk_data]   Package wordnet is already up-to-date!\n"
     ]
    },
    {
     "data": {
      "text/plain": [
       "True"
      ]
     },
     "execution_count": 59,
     "metadata": {},
     "output_type": "execute_result"
    }
   ],
   "source": [
    "import nltk\n",
    "nltk.download(\"punkt\")\n",
    "nltk.download('wordnet')"
   ]
  },
  {
   "cell_type": "code",
   "execution_count": 63,
   "metadata": {},
   "outputs": [],
   "source": [
    "from nltk.tokenize import word_tokenize"
   ]
  },
  {
   "cell_type": "markdown",
   "metadata": {},
   "source": [
    "Tokenizing and lemmatizing"
   ]
  },
  {
   "cell_type": "code",
   "execution_count": 65,
   "metadata": {},
   "outputs": [],
   "source": [
    "def preprocess_news(df):\n",
    "    corpus=[]\n",
    "    stem=PorterStemmer()\n",
    "    lem=WordNetLemmatizer()\n",
    "    for news in df['headline_text']:\n",
    "        words =[w for w in word_tokenize(news) if (w not in stop)] #list comprehension returns tokens of the headlines which are not stopwords\n",
    "        \n",
    "        words=[lem.lemmatize(w) for w in words if len(w)>2] #returns lemmatized words of length greater than 2 (ensuring that doesn;t conatain stopwords)\n",
    "        \n",
    "        corpus.append(words) #append words to the corpus\n",
    "        \n",
    "    return corpus\n",
    "corpus=preprocess_news(news)"
   ]
  },
  {
   "cell_type": "markdown",
   "metadata": {},
   "source": [
    "Creating bug-of-words using gensim. Read the gensim documentation and about bag of words"
   ]
  },
  {
   "cell_type": "code",
   "execution_count": 70,
   "metadata": {},
   "outputs": [],
   "source": [
    "dic=gensim.corpora.Dictionary(corpus)\n",
    "bow_corpus = [dic.doc2bow(doc) for doc in corpus]"
   ]
  },
  {
   "cell_type": "markdown",
   "metadata": {},
   "source": [
    "Creating the LDA model"
   ]
  },
  {
   "cell_type": "code",
   "execution_count": 71,
   "metadata": {},
   "outputs": [
    {
     "data": {
      "text/plain": [
       "[(0,\n",
       "  '0.024*\"police\" + 0.013*\"new\" + 0.006*\"australia\" + 0.005*\"face\" + 0.005*\"council\" + 0.005*\"home\" + 0.005*\"probe\" + 0.005*\"man\" + 0.004*\"iraqi\" + 0.004*\"centre\"'),\n",
       " (1,\n",
       "  '0.010*\"iraq\" + 0.008*\"war\" + 0.008*\"plan\" + 0.007*\"cup\" + 0.007*\"world\" + 0.006*\"win\" + 0.006*\"get\" + 0.005*\"call\" + 0.005*\"new\" + 0.005*\"govt\"'),\n",
       " (2,\n",
       "  '0.013*\"govt\" + 0.006*\"troop\" + 0.006*\"concern\" + 0.006*\"fund\" + 0.006*\"water\" + 0.005*\"fire\" + 0.005*\"urged\" + 0.005*\"act\" + 0.005*\"drought\" + 0.005*\"farmer\"'),\n",
       " (3,\n",
       "  '0.009*\"man\" + 0.008*\"baghdad\" + 0.007*\"iraq\" + 0.007*\"iraqi\" + 0.007*\"killed\" + 0.007*\"crash\" + 0.007*\"death\" + 0.006*\"sars\" + 0.006*\"attack\" + 0.006*\"war\"')]"
      ]
     },
     "execution_count": 71,
     "metadata": {},
     "output_type": "execute_result"
    }
   ],
   "source": [
    "lda_model = gensim.models.LdaMulticore(bow_corpus,\n",
    "                                      num_topics = 4,\n",
    "                                      id2word = dic,\n",
    "                                      passes = 10,\n",
    "                                      workers = 2)\n",
    "lda_model.show_topics()"
   ]
  },
  {
   "cell_type": "markdown",
   "metadata": {},
   "source": [
    "Read on LDA model"
   ]
  },
  {
   "cell_type": "code",
   "execution_count": 77,
   "metadata": {},
   "outputs": [
    {
     "name": "stderr",
     "output_type": "stream",
     "text": [
      "/home/mateusz/anaconda3/lib/python3.7/site-packages/pyLDAvis/_prepare.py:257: FutureWarning: Sorting because non-concatenation axis is not aligned. A future version\n",
      "of pandas will change to not sort by default.\n",
      "\n",
      "To accept the future behavior, pass 'sort=False'.\n",
      "\n",
      "To retain the current behavior and silence the warning, pass 'sort=True'.\n",
      "\n",
      "  return pd.concat([default_term_info] + list(topic_dfs))\n"
     ]
    },
    {
     "data": {
      "text/html": [
       "\n",
       "<link rel=\"stylesheet\" type=\"text/css\" href=\"https://cdn.rawgit.com/bmabey/pyLDAvis/files/ldavis.v1.0.0.css\">\n",
       "\n",
       "\n",
       "<div id=\"ldavis_el62941398587653719841417584278\"></div>\n",
       "<script type=\"text/javascript\">\n",
       "\n",
       "var ldavis_el62941398587653719841417584278_data = {\"mdsDat\": {\"x\": [-0.060578366262745244, -0.15678508852649636, 0.21111043922911718, 0.006253015560124551], \"y\": [-0.08799112238418098, -0.05225972808290306, -0.07029716095164668, 0.2105480114187308], \"topics\": [1, 2, 3, 4], \"cluster\": [1, 1, 1, 1], \"Freq\": [26.130950927734375, 25.130535125732422, 24.788007736206055, 23.950498580932617]}, \"tinfo\": {\"Category\": [\"Default\", \"Default\", \"Default\", \"Default\", \"Default\", \"Default\", \"Default\", \"Default\", \"Default\", \"Default\", \"Default\", \"Default\", \"Default\", \"Default\", \"Default\", \"Default\", \"Default\", \"Default\", \"Default\", \"Default\", \"Default\", \"Default\", \"Default\", \"Default\", \"Default\", \"Default\", \"Default\", \"Default\", \"Default\", \"Default\", \"Topic1\", \"Topic1\", \"Topic1\", \"Topic1\", \"Topic1\", \"Topic1\", \"Topic1\", \"Topic1\", \"Topic1\", \"Topic1\", \"Topic1\", \"Topic1\", \"Topic1\", \"Topic1\", \"Topic1\", \"Topic1\", \"Topic1\", \"Topic1\", \"Topic1\", \"Topic1\", \"Topic1\", \"Topic1\", \"Topic1\", \"Topic1\", \"Topic1\", \"Topic1\", \"Topic1\", \"Topic1\", \"Topic1\", \"Topic1\", \"Topic1\", \"Topic1\", \"Topic1\", \"Topic1\", \"Topic1\", \"Topic1\", \"Topic1\", \"Topic1\", \"Topic1\", \"Topic1\", \"Topic1\", \"Topic1\", \"Topic1\", \"Topic1\", \"Topic1\", \"Topic1\", \"Topic1\", \"Topic1\", \"Topic1\", \"Topic1\", \"Topic1\", \"Topic1\", \"Topic1\", \"Topic1\", \"Topic1\", \"Topic1\", \"Topic1\", \"Topic1\", \"Topic2\", \"Topic2\", \"Topic2\", \"Topic2\", \"Topic2\", \"Topic2\", \"Topic2\", \"Topic2\", \"Topic2\", \"Topic2\", \"Topic2\", \"Topic2\", \"Topic2\", \"Topic2\", \"Topic2\", \"Topic2\", \"Topic2\", \"Topic2\", \"Topic2\", \"Topic2\", \"Topic2\", \"Topic2\", \"Topic2\", \"Topic2\", \"Topic2\", \"Topic2\", \"Topic2\", \"Topic2\", \"Topic2\", \"Topic2\", \"Topic2\", \"Topic2\", \"Topic2\", \"Topic2\", \"Topic2\", \"Topic2\", \"Topic2\", \"Topic2\", \"Topic2\", \"Topic2\", \"Topic2\", \"Topic2\", \"Topic2\", \"Topic2\", \"Topic2\", \"Topic2\", \"Topic2\", \"Topic2\", \"Topic2\", \"Topic2\", \"Topic2\", \"Topic2\", \"Topic2\", \"Topic2\", \"Topic2\", \"Topic2\", \"Topic2\", \"Topic2\", \"Topic2\", \"Topic2\", \"Topic2\", \"Topic2\", \"Topic2\", \"Topic2\", \"Topic2\", \"Topic3\", \"Topic3\", \"Topic3\", \"Topic3\", \"Topic3\", \"Topic3\", \"Topic3\", \"Topic3\", \"Topic3\", \"Topic3\", \"Topic3\", \"Topic3\", \"Topic3\", \"Topic3\", \"Topic3\", \"Topic3\", \"Topic3\", \"Topic3\", \"Topic3\", \"Topic3\", \"Topic3\", \"Topic3\", \"Topic3\", \"Topic3\", \"Topic3\", \"Topic3\", \"Topic3\", \"Topic3\", \"Topic3\", \"Topic3\", \"Topic3\", \"Topic3\", \"Topic3\", \"Topic3\", \"Topic3\", \"Topic3\", \"Topic3\", \"Topic3\", \"Topic3\", \"Topic3\", \"Topic3\", \"Topic3\", \"Topic3\", \"Topic3\", \"Topic3\", \"Topic3\", \"Topic3\", \"Topic3\", \"Topic3\", \"Topic3\", \"Topic3\", \"Topic3\", \"Topic3\", \"Topic3\", \"Topic3\", \"Topic3\", \"Topic3\", \"Topic3\", \"Topic3\", \"Topic3\", \"Topic4\", \"Topic4\", \"Topic4\", \"Topic4\", \"Topic4\", \"Topic4\", \"Topic4\", \"Topic4\", \"Topic4\", \"Topic4\", \"Topic4\", \"Topic4\", \"Topic4\", \"Topic4\", \"Topic4\", \"Topic4\", \"Topic4\", \"Topic4\", \"Topic4\", \"Topic4\", \"Topic4\", \"Topic4\", \"Topic4\", \"Topic4\", \"Topic4\", \"Topic4\", \"Topic4\", \"Topic4\", \"Topic4\", \"Topic4\", \"Topic4\", \"Topic4\", \"Topic4\", \"Topic4\", \"Topic4\", \"Topic4\", \"Topic4\", \"Topic4\", \"Topic4\", \"Topic4\", \"Topic4\", \"Topic4\", \"Topic4\", \"Topic4\", \"Topic4\", \"Topic4\", \"Topic4\", \"Topic4\", \"Topic4\", \"Topic4\", \"Topic4\", \"Topic4\", \"Topic4\", \"Topic4\", \"Topic4\", \"Topic4\", \"Topic4\", \"Topic4\", \"Topic4\", \"Topic4\", \"Topic4\", \"Topic4\", \"Topic4\"], \"Freq\": [574.0, 455.0, 543.0, 200.0, 366.0, 171.0, 188.0, 218.0, 161.0, 187.0, 156.0, 161.0, 156.0, 282.0, 232.0, 162.0, 126.0, 119.0, 514.0, 121.0, 440.0, 120.0, 112.0, 125.0, 122.0, 181.0, 142.0, 105.0, 114.0, 338.0, 156.13409423828125, 160.35496520996094, 99.99022674560547, 120.22738647460938, 103.1479263305664, 71.39594268798828, 63.99261474609375, 56.46312713623047, 51.4882926940918, 154.01258850097656, 47.74861145019531, 49.302738189697266, 59.948944091796875, 42.68975830078125, 41.85895538330078, 60.67975616455078, 39.597068786621094, 41.91807174682617, 38.711936950683594, 38.307865142822266, 112.14079284667969, 37.14400863647461, 38.33026123046875, 120.6005630493164, 35.03274917602539, 34.36417770385742, 33.719276428222656, 33.44076919555664, 34.302120208740234, 31.669546127319336, 122.36886596679688, 57.48749542236328, 61.24142837524414, 49.74870300292969, 148.30792236328125, 355.4615478515625, 103.51530456542969, 93.68917083740234, 100.35633850097656, 94.82556915283203, 53.29483413696289, 126.62810516357422, 112.45816802978516, 128.60484313964844, 94.08705139160156, 60.106929779052734, 91.76797485351562, 95.30656433105469, 77.4989013671875, 93.36322784423828, 108.1609878540039, 76.05486297607422, 90.29920959472656, 79.18115997314453, 88.2197494506836, 81.6004867553711, 83.44212341308594, 79.29395294189453, 79.70782470703125, 68.89874267578125, 64.08360290527344, 61.92600631713867, 56.46927261352539, 56.71342086791992, 51.713199615478516, 48.561859130859375, 68.1835708618164, 46.04590606689453, 40.415138244628906, 39.32778549194336, 38.3909797668457, 34.542293548583984, 34.135154724121094, 32.40335464477539, 32.16590881347656, 31.42136573791504, 29.946012496948242, 33.84309005737305, 28.884931564331055, 61.20223617553711, 29.238882064819336, 28.500259399414062, 27.911226272583008, 34.210975646972656, 28.81723976135254, 34.43647384643555, 24.655548095703125, 24.327234268188477, 177.4628143310547, 35.29680633544922, 38.67176818847656, 189.6268310546875, 99.5038833618164, 68.47691345214844, 49.999168395996094, 50.13713073730469, 79.79270935058594, 91.1304931640625, 208.10386657714844, 193.08172607421875, 264.5178527832031, 49.12697982788086, 62.908447265625, 108.95134735107422, 140.3889617919922, 89.92918395996094, 81.03466033935547, 160.00180053710938, 90.1991195678711, 70.10397338867188, 136.67752075195312, 77.88550567626953, 125.94334411621094, 96.3141860961914, 135.64602661132812, 113.31702423095703, 89.8516616821289, 84.75528717041016, 128.8974609375, 79.81455993652344, 84.90552520751953, 85.99208068847656, 80.33399200439453, 170.56520080566406, 111.9382553100586, 118.90306854248047, 86.88247680664062, 125.12020874023438, 64.7323226928711, 58.71744155883789, 62.542388916015625, 53.7802734375, 57.692562103271484, 50.718563079833984, 42.711856842041016, 39.85880661010742, 93.40730285644531, 36.238990783691406, 34.625465393066406, 117.92827606201172, 33.141719818115234, 67.2437744140625, 32.07902526855469, 33.44697189331055, 30.182294845581055, 29.120222091674805, 29.313493728637695, 29.374889373779297, 28.044662475585938, 27.749317169189453, 26.7435359954834, 26.95639991760254, 26.34908103942871, 155.23899841308594, 30.65276336669922, 191.51541137695312, 80.84071350097656, 171.57203674316406, 34.40495300292969, 86.9827880859375, 38.41499710083008, 122.14664459228516, 33.9708137512207, 68.80048370361328, 38.693355560302734, 165.40438842773438, 89.68302917480469, 86.8292236328125, 72.28485107421875, 78.26525115966797, 103.65367889404297, 173.24342346191406, 101.97649383544922, 221.74075317382812, 160.0476531982422, 155.00111389160156, 174.51539611816406, 79.50464630126953, 87.28430938720703, 75.81401824951172, 97.91744232177734, 75.41153717041016, 78.22122955322266, 573.5009765625, 68.30067443847656, 66.67863464355469, 57.8475227355957, 56.31320571899414, 54.06338882446289, 52.125980377197266, 50.08339309692383, 47.4429817199707, 104.24888610839844, 44.21163558959961, 39.61179733276367, 39.4434928894043, 35.84506607055664, 36.363525390625, 34.215023040771484, 30.95786476135254, 42.79267883300781, 29.446510314941406, 29.40959358215332, 30.166837692260742, 29.074838638305664, 28.004024505615234, 26.873098373413086, 26.745628356933594, 25.90183448791504, 25.687898635864258, 29.087675094604492, 25.647939682006836, 24.641393661499023, 37.54185104370117, 50.082759857177734, 146.87136840820312, 124.68071746826172, 315.3103942871094, 62.85981369018555, 53.418704986572266, 111.66651916503906, 66.45613098144531, 50.25954818725586, 92.79954528808594, 92.51182556152344, 61.989139556884766, 74.89089965820312, 128.2016143798828, 93.13551330566406, 53.63536071777344, 101.63361358642578, 127.44845581054688, 100.42549133300781, 88.26546478271484, 105.20823669433594, 100.8009033203125, 100.9654541015625, 110.33179473876953, 85.49568939208984, 95.14784240722656, 71.6684799194336, 61.38236999511719, 77.53121185302734, 75.97119903564453, 71.52989959716797, 66.8951416015625], \"Term\": [\"police\", \"new\", \"govt\", \"baghdad\", \"war\", \"crash\", \"world\", \"cup\", \"troop\", \"killed\", \"concern\", \"attack\", \"fund\", \"iraqi\", \"death\", \"australia\", \"missing\", \"china\", \"iraq\", \"farmer\", \"man\", \"dead\", \"toll\", \"act\", \"drought\", \"water\", \"home\", \"centre\", \"rain\", \"plan\", \"concern\", \"troop\", \"korea\", \"farmer\", \"cut\", \"blue\", \"action\", \"qantas\", \"israeli\", \"fund\", \"scheme\", \"restriction\", \"nuclear\", \"ready\", \"tax\", \"federal\", \"cleared\", \"central\", \"opp\", \"carr\", \"rain\", \"aired\", \"pledge\", \"drought\", \"hearing\", \"murray\", \"violence\", \"next\", \"sought\", \"crow\", \"act\", \"bill\", \"hill\", \"challenge\", \"water\", \"govt\", \"murder\", \"fight\", \"air\", \"job\", \"palestinian\", \"urged\", \"qld\", \"fire\", \"vic\", \"crean\", \"budget\", \"nsw\", \"final\", \"back\", \"man\", \"hospital\", \"court\", \"set\", \"call\", \"face\", \"sars\", \"council\", \"time\", \"gold\", \"anzac\", \"target\", \"afl\", \"focus\", \"regional\", \"award\", \"club\", \"uni\", \"host\", \"blair\", \"closure\", \"fishing\", \"farm\", \"tough\", \"northern\", \"island\", \"quits\", \"bronco\", \"councillor\", \"post\", \"brazil\", \"hawk\", \"bos\", \"merger\", \"place\", \"list\", \"practice\", \"general\", \"world\", \"cap\", \"building\", \"cup\", \"tour\", \"race\", \"park\", \"wheat\", \"meet\", \"coast\", \"war\", \"plan\", \"iraq\", \"loss\", \"warns\", \"health\", \"get\", \"year\", \"make\", \"win\", \"change\", \"doctor\", \"call\", \"return\", \"claim\", \"budget\", \"new\", \"say\", \"boost\", \"group\", \"govt\", \"lead\", \"back\", \"council\", \"may\", \"crash\", \"toll\", \"china\", \"push\", \"missing\", \"soldier\", \"assault\", \"aceh\", \"alleged\", \"airport\", \"planned\", \"stand\", \"cross\", \"search\", \"sri\", \"explosion\", \"dead\", \"underway\", \"last\", \"resume\", \"civilian\", \"alice\", \"baby\", \"girl\", \"custody\", \"lanka\", \"quake\", \"bail\", \"teenager\", \"commission\", \"attack\", \"killer\", \"baghdad\", \"accident\", \"killed\", \"indian\", \"continues\", \"event\", \"anti\", \"flood\", \"bomb\", \"well\", \"death\", \"offer\", \"australian\", \"peace\", \"dy\", \"two\", \"iraqi\", \"road\", \"man\", \"sars\", \"war\", \"iraq\", \"car\", \"woman\", \"found\", \"call\", \"begin\", \"claim\", \"police\", \"issue\", \"easter\", \"real\", \"president\", \"care\", \"investigate\", \"lion\", \"edge\", \"centre\", \"station\", \"aged\", \"human\", \"use\", \"remains\", \"weapon\", \"grand\", \"arsenal\", \"cannabis\", \"remain\", \"patient\", \"surrender\", \"hunt\", \"bracks\", \"victoria\", \"money\", \"nauru\", \"interest\", \"tribute\", \"leeds\", \"men\", \"abuse\", \"australia\", \"home\", \"new\", \"stay\", \"run\", \"probe\", \"power\", \"name\", \"service\", \"drug\", \"second\", \"record\", \"face\", \"charge\", \"future\", \"report\", \"council\", \"take\", \"set\", \"iraqi\", \"court\", \"win\", \"man\", \"back\", \"sars\", \"force\", \"victim\", \"plan\", \"say\", \"claim\", \"death\"], \"Total\": [574.0, 455.0, 543.0, 200.0, 366.0, 171.0, 188.0, 218.0, 161.0, 187.0, 156.0, 161.0, 156.0, 282.0, 232.0, 162.0, 126.0, 119.0, 514.0, 121.0, 440.0, 120.0, 112.0, 125.0, 122.0, 181.0, 142.0, 105.0, 114.0, 338.0, 156.82720947265625, 161.38267517089844, 100.69689178466797, 121.12532806396484, 104.111083984375, 72.08891296386719, 64.68095397949219, 57.19921875, 52.18010711669922, 156.17579650878906, 48.43986892700195, 50.044559478759766, 60.85123825073242, 43.39259719848633, 42.55284881591797, 61.72658920288086, 40.28881072998047, 42.65987014770508, 39.397315979003906, 38.99772644042969, 114.18018341064453, 37.825191497802734, 39.060821533203125, 122.95030975341797, 35.733829498291016, 35.05261993408203, 34.40977478027344, 34.12968444824219, 35.02588653564453, 32.35567855834961, 125.06268310546875, 58.83436965942383, 63.21366882324219, 51.33993148803711, 181.7320098876953, 543.93896484375, 127.8370132446289, 118.07612609863281, 129.45509338378906, 127.06175231933594, 59.85097885131836, 197.98660278320312, 169.37973022460938, 234.05178833007812, 150.00509643554688, 73.00238037109375, 191.35562133789062, 228.24969482421875, 147.68357849121094, 264.0064392089844, 440.49566650390625, 149.54910278320312, 266.1626892089844, 190.95643615722656, 324.3856506347656, 262.5682373046875, 370.74224853515625, 351.98284912109375, 80.44879913330078, 69.61682891845703, 64.77809143066406, 62.664100646972656, 57.161521911621094, 57.410526275634766, 52.4139289855957, 49.25355911254883, 69.1667709350586, 46.7379150390625, 41.106327056884766, 40.027286529541016, 39.085391998291016, 35.2313346862793, 34.82986068725586, 33.10441589355469, 32.86573028564453, 32.11864471435547, 30.636255264282227, 34.63362121582031, 29.570615768432617, 62.659976959228516, 29.936941146850586, 29.187652587890625, 28.599023818969727, 35.074951171875, 29.562389373779297, 35.346492767333984, 25.343605041503906, 25.018463134765625, 188.8872528076172, 36.54127883911133, 40.120887756347656, 218.0818328857422, 111.20816802978516, 75.93862915039062, 55.418704986572266, 55.8677978515625, 99.23763275146484, 120.62225341796875, 366.2479553222656, 338.810546875, 514.3806762695312, 57.015499114990234, 80.03874969482422, 173.1043701171875, 249.21066284179688, 133.9048309326172, 118.01597595214844, 323.0816650390625, 143.23419189453125, 102.07057189941406, 324.3856506347656, 123.75279998779297, 303.802490234375, 191.35562133789062, 455.8995666503906, 333.25848388671875, 197.12828063964844, 170.0259552001953, 543.93896484375, 172.51634216308594, 264.0064392089844, 351.98284912109375, 239.6491241455078, 171.2457275390625, 112.71202850341797, 119.81903839111328, 87.65666961669922, 126.27144622802734, 65.48114013671875, 59.4010124206543, 63.278072357177734, 54.47410583496094, 58.44911575317383, 51.41964340209961, 43.433719635009766, 40.53675079345703, 95.10298156738281, 36.91473388671875, 35.30049133300781, 120.2641372680664, 33.8242073059082, 68.62886810302734, 32.78482437133789, 34.184810638427734, 30.88157081604004, 29.799795150756836, 30.000085830688477, 30.0677490234375, 28.719528198242188, 28.428991317749023, 27.429941177368164, 27.648561477661133, 27.03759002685547, 161.4821319580078, 31.460065841674805, 200.72096252441406, 84.19528198242188, 187.56385803222656, 35.50517654418945, 94.53059387207031, 39.94064712524414, 138.1018829345703, 35.124855041503906, 76.3559799194336, 40.58964538574219, 232.77801513671875, 113.73310852050781, 109.78257751464844, 87.57624816894531, 98.09774780273438, 143.55909729003906, 282.83319091796875, 147.58578491210938, 440.49566650390625, 370.74224853515625, 366.2479553222656, 514.3806762695312, 120.15200805664062, 162.45187377929688, 109.6619873046875, 324.3856506347656, 115.68645477294922, 303.802490234375, 574.834716796875, 69.01657104492188, 67.41963195800781, 58.549705505371094, 57.00404357910156, 54.74884796142578, 52.81920623779297, 50.80231475830078, 48.138084411621094, 105.834228515625, 44.91680145263672, 40.29208755493164, 40.16801071166992, 36.530277252197266, 37.07060241699219, 34.90645980834961, 31.647584915161133, 43.77720260620117, 30.133113861083984, 30.107959747314453, 30.89935302734375, 29.782102584838867, 28.687875747680664, 27.57042694091797, 27.44815444946289, 26.593435287475586, 26.382387161254883, 29.8786563873291, 26.352108001708984, 25.32652473449707, 38.79267120361328, 52.66625213623047, 162.18128967285156, 142.07733154296875, 455.8995666503906, 72.69651794433594, 63.39957046508789, 158.8009033203125, 83.5329818725586, 60.07594299316406, 138.61712646484375, 138.95327758789062, 83.8720474243164, 111.40743255615234, 262.5682373046875, 169.92825317382812, 72.89436340332031, 232.25668334960938, 351.98284912109375, 233.32656860351562, 190.95643615722656, 282.83319091796875, 266.1626892089844, 323.0816650390625, 440.49566650390625, 264.0064392089844, 370.74224853515625, 156.5460662841797, 100.28810119628906, 338.810546875, 333.25848388671875, 303.802490234375, 232.77801513671875], \"loglift\": [30.0, 29.0, 28.0, 27.0, 26.0, 25.0, 24.0, 23.0, 22.0, 21.0, 20.0, 19.0, 18.0, 17.0, 16.0, 15.0, 14.0, 13.0, 12.0, 11.0, 10.0, 9.0, 8.0, 7.0, 6.0, 5.0, 4.0, 3.0, 2.0, 1.0, 1.3375999927520752, 1.3357000350952148, 1.3350000381469727, 1.3345999717712402, 1.332800030708313, 1.3323999643325806, 1.3314000368118286, 1.3291000127792358, 1.3286999464035034, 1.3280999660491943, 1.3277000188827515, 1.3271000385284424, 1.3271000385284424, 1.325700044631958, 1.325600028038025, 1.3249000310897827, 1.3246999979019165, 1.3244999647140503, 1.3244999647140503, 1.3242000341415405, 1.3240000009536743, 1.3238999843597412, 1.323199987411499, 1.3228000402450562, 1.3221999406814575, 1.3221999406814575, 1.3217999935150146, 1.3216999769210815, 1.3212000131607056, 1.3206000328063965, 1.3202999830245972, 1.3188999891281128, 1.3104000091552734, 1.3106000423431396, 1.138800024986267, 0.9165999889373779, 1.13100004196167, 1.110700011253357, 1.087399959564209, 1.049399971961975, 1.2259999513626099, 0.8950999975204468, 0.9325000047683716, 0.7433000206947327, 0.8755999803543091, 1.1476999521255493, 0.607200026512146, 0.46869999170303345, 0.6972000002861023, 0.3025999963283539, -0.062199998646974564, 0.6658999919891357, 0.26109999418258667, 0.4616999924182892, 0.039900001138448715, 0.17339999973773956, -0.1492999941110611, -0.14839999377727509, 1.3717999458312988, 1.3707000017166138, 1.370300054550171, 1.3691999912261963, 1.368899941444397, 1.368899941444397, 1.3675999641418457, 1.3668999671936035, 1.3667999505996704, 1.3661999702453613, 1.3640999794006348, 1.3634999990463257, 1.3631999492645264, 1.361299991607666, 1.3609000444412231, 1.3596999645233154, 1.3595999479293823, 1.3590999841690063, 1.358299970626831, 1.3580000400543213, 1.3575999736785889, 1.3574999570846558, 1.3574999570846558, 1.357300043106079, 1.3566999435424805, 1.3560999631881714, 1.3555999994277954, 1.3550000190734863, 1.353600025177002, 1.3530999422073364, 1.3186999559402466, 1.3464000225067139, 1.3443000316619873, 1.2412999868392944, 1.2698999643325806, 1.2776999473571777, 1.2782000303268433, 1.2728999853134155, 1.1629999876022339, 1.1007000207901, 0.8158000111579895, 0.8187999725341797, 0.7160000205039978, 1.232200026512146, 1.1403000354766846, 0.9180999994277954, 0.807200014591217, 0.9829999804496765, 1.0051000118255615, 0.6783999800682068, 0.9186000227928162, 1.0053999423980713, 0.5167999863624573, 0.9179999828338623, 0.5005000233650208, 0.694599986076355, 0.1688999980688095, 0.30239999294281006, 0.5953999757766724, 0.6848999857902527, -0.05869999900460243, 0.6103000044822693, 0.2467000037431717, -0.028200000524520874, 0.288100004196167, 1.3907999992370605, 1.3878999948501587, 1.3870999813079834, 1.3859000205993652, 1.385699987411499, 1.3832999467849731, 1.3832000494003296, 1.3831000328063965, 1.3819999694824219, 1.3818000555038452, 1.381100058555603, 1.378100037574768, 1.3779000043869019, 1.3767999410629272, 1.3762999773025513, 1.375499963760376, 1.3752000331878662, 1.374400019645691, 1.374400019645691, 1.3730000257492065, 1.3730000257492065, 1.371899962425232, 1.3717000484466553, 1.3717000484466553, 1.371500015258789, 1.371000051498413, 1.3705999851226807, 1.3695000410079956, 1.3695000410079956, 1.36899995803833, 1.3553999662399292, 1.3688000440597534, 1.3479000329971313, 1.354200005531311, 1.3056999444961548, 1.3632999658584595, 1.3115999698638916, 1.3559000492095947, 1.2719999551773071, 1.3614000082015991, 1.2905999422073364, 1.347000002861023, 1.0530999898910522, 1.1571999788284302, 1.1603000164031982, 1.2029000520706177, 1.1689000129699707, 1.069100022315979, 0.904699981212616, 1.0250999927520752, 0.7084000110626221, 0.5547999739646912, 0.5349000096321106, 0.3138999938964844, 0.9818999767303467, 0.7735999822616577, 1.0256999731063843, 0.19699999690055847, 0.9668999910354614, 0.03799999877810478, 1.426900029182434, 1.4187999963760376, 1.4180999994277954, 1.417099952697754, 1.4170000553131104, 1.416599988937378, 1.4160000085830688, 1.4148999452590942, 1.4146000146865845, 1.4141000509262085, 1.4134000539779663, 1.4121999740600586, 1.4110000133514404, 1.4101999998092651, 1.4098999500274658, 1.4091999530792236, 1.407099962234497, 1.4063999652862549, 1.4061000347137451, 1.4056999683380127, 1.4052000045776367, 1.4050999879837036, 1.4050999879837036, 1.4035999774932861, 1.4033000469207764, 1.4027999639511108, 1.402500033378601, 1.402400016784668, 1.4020999670028687, 1.4018000364303589, 1.396399974822998, 1.3789000511169434, 1.3300000429153442, 1.2985999584197998, 1.0605000257492065, 1.2838000059127808, 1.2578999996185303, 1.0770000219345093, 1.2005000114440918, 1.2508000135421753, 1.027899980545044, 1.0224000215530396, 1.1267999410629272, 1.031999945640564, 0.7123000025749207, 0.8278999924659729, 1.1224000453948975, 0.6026999950408936, 0.4133000075817108, 0.5861999988555908, 0.6575000286102295, 0.44029998779296875, 0.45820000767707825, 0.2660999894142151, 0.04479999840259552, 0.30169999599456787, 0.06909999996423721, 0.6478999853134155, 0.9383000135421753, -0.04560000076889992, -0.049400001764297485, -0.017100000753998756, 0.18219999969005585], \"logprob\": [30.0, 29.0, 28.0, 27.0, 26.0, 25.0, 24.0, 23.0, 22.0, 21.0, 20.0, 19.0, 18.0, 17.0, 16.0, 15.0, 14.0, 13.0, 12.0, 11.0, 10.0, 9.0, 8.0, 7.0, 6.0, 5.0, 4.0, 3.0, 2.0, 1.0, -5.1321001052856445, -5.105400085449219, -5.5777997970581055, -5.393400192260742, -5.5467000007629395, -5.914599895477295, -6.024099826812744, -6.149199962615967, -6.241499900817871, -5.1458001136779785, -6.31689977645874, -6.284800052642822, -6.089300155639648, -6.428899765014648, -6.448500156402588, -6.077199935913086, -6.5040998458862305, -6.4471001625061035, -6.526700019836426, -6.537199974060059, -5.463099956512451, -6.567999839782715, -6.536600112915039, -5.3902997970581055, -6.626500129699707, -6.6458001136779785, -6.66480016708374, -6.672999858856201, -6.647600173950195, -6.727499961853027, -5.375800132751465, -6.13129997253418, -6.067999839782715, -6.2758002281188965, -5.183499813079834, -4.3094000816345215, -5.543099880218506, -5.6427998542785645, -5.574100017547607, -5.630799770355225, -6.206999778747559, -5.341599941253662, -5.46019983291626, -5.326099872589111, -5.638599872589111, -6.086699962615967, -5.663599967956543, -5.625699996948242, -5.832600116729736, -5.646299839019775, -5.499199867248535, -5.851399898529053, -5.679699897766113, -5.811100006103516, -5.703000068664551, -5.781000137329102, -5.758699893951416, -5.809700012207031, -5.765399932861328, -5.911099910736084, -5.98360013961792, -6.0177998542785645, -6.110099792480469, -6.105800151824951, -6.1981000900268555, -6.260900020599365, -5.921599864959717, -6.3140997886657715, -6.4446001052856445, -6.47189998626709, -6.495999813079834, -6.601600170135498, -6.613500118255615, -6.665500164031982, -6.672900199890137, -6.696300029754639, -6.7444000244140625, -6.622099876403809, -6.7804999351501465, -6.029600143432617, -6.7683000564575195, -6.793900012969971, -6.814799785614014, -6.611199855804443, -6.782800197601318, -6.604700088500977, -6.938799858093262, -6.952199935913086, -4.965000152587891, -6.579999923706055, -6.488699913024902, -4.89870023727417, -5.543600082397461, -5.917300224304199, -6.231800079345703, -6.229000091552734, -5.764400005340576, -5.631499767303467, -4.805799961090088, -4.88070011138916, -4.565899848937988, -6.2494001388549805, -6.002099990844727, -5.452899932861328, -5.199399948120117, -5.644800186157227, -5.748899936676025, -5.068600177764893, -5.6417999267578125, -5.893799781799316, -5.226200103759766, -5.78849983215332, -5.308000087738037, -5.576200008392334, -5.233699798583984, -5.413599967956543, -5.645599842071533, -5.703999996185303, -5.284800052642822, -5.764100074768066, -5.702199935913086, -5.689499855041504, -5.757599830627441, -4.990900039672852, -5.412099838256836, -5.351799964904785, -5.665500164031982, -5.30079984664917, -5.959799766540527, -6.057300090789795, -5.994200229644775, -6.145199775695801, -6.074900150299072, -6.203800201416016, -6.3755998611450195, -6.444699764251709, -5.593100070953369, -6.539899826049805, -6.5854997634887695, -5.360000133514404, -6.629300117492676, -5.9217000007629395, -6.661900043487549, -6.620100021362305, -6.722799777984619, -6.758600234985352, -6.751999855041504, -6.749899864196777, -6.796299934387207, -6.8069000244140625, -6.843800067901611, -6.8358001708984375, -6.85860013961792, -5.085100173950195, -6.707300186157227, -4.875100135803223, -5.737599849700928, -4.985099792480469, -6.591899871826172, -5.664400100708008, -6.481599807739258, -5.32480001449585, -6.604599952697754, -5.898900032043457, -6.474400043487549, -5.021699905395508, -5.633800029754639, -5.666100025177002, -5.849400043487549, -5.769999980926514, -5.488999843597412, -4.975399971008301, -5.505300045013428, -4.728600025177002, -5.054599761962891, -5.086599826812744, -4.968100070953369, -5.754199981689453, -5.660900115966797, -5.801799774169922, -5.545899868011475, -5.80709981918335, -5.770500183105469, -3.7439000606536865, -5.871799945831299, -5.8958001136779785, -6.037899971008301, -6.064799785614014, -6.105500221252441, -6.142000198364258, -6.182000160217285, -6.236199855804443, -5.44890022277832, -6.306700229644775, -6.416600227355957, -6.42080020904541, -6.516499996185303, -6.502099990844727, -6.563000202178955, -6.663099765777588, -6.339300155639648, -6.713099956512451, -6.714399814605713, -6.688899993896484, -6.725800037384033, -6.763299942016602, -6.804599761962891, -6.809299945831299, -6.841400146484375, -6.849699974060059, -6.725399971008301, -6.851200103759766, -6.891300201416016, -6.470200061798096, -6.182000160217285, -5.106100082397461, -5.269899845123291, -4.342100143432617, -5.954800128936768, -6.117499828338623, -5.380199909210205, -5.899199962615967, -6.178500175476074, -5.565299987792969, -5.568399906158447, -5.968699932098389, -5.779699802398682, -5.242099761962891, -5.561600208282471, -6.113500118255615, -5.474299907684326, -5.248000144958496, -5.486299991607666, -5.615300178527832, -5.439799785614014, -5.482500076293945, -5.480899810791016, -5.392199993133545, -5.647200107574463, -5.540299892425537, -5.823599815368652, -5.978600025177002, -5.744999885559082, -5.7652997970581055, -5.8256001472473145, -5.892600059509277]}, \"token.table\": {\"Topic\": [1, 4, 3, 4, 3, 1, 2, 3, 4, 1, 2, 4, 1, 3, 4, 1, 3, 3, 3, 1, 2, 3, 4, 2, 2, 4, 3, 1, 3, 3, 4, 2, 3, 4, 2, 3, 1, 2, 4, 3, 4, 3, 1, 3, 4, 1, 3, 2, 1, 1, 3, 1, 2, 3, 4, 2, 4, 2, 2, 1, 2, 4, 1, 2, 1, 2, 3, 4, 4, 1, 2, 3, 4, 4, 1, 1, 2, 4, 1, 3, 1, 2, 1, 3, 4, 3, 3, 1, 2, 3, 4, 1, 2, 2, 2, 3, 3, 1, 2, 3, 1, 2, 3, 4, 2, 1, 3, 4, 3, 1, 2, 3, 1, 2, 4, 3, 1, 1, 3, 3, 4, 1, 2, 3, 4, 1, 3, 4, 1, 3, 4, 3, 4, 4, 4, 1, 3, 3, 1, 2, 3, 4, 2, 1, 1, 4, 1, 2, 1, 2, 3, 4, 1, 2, 3, 4, 2, 1, 3, 2, 1, 2, 3, 4, 2, 3, 4, 1, 4, 2, 3, 4, 2, 1, 2, 3, 3, 2, 1, 2, 4, 4, 1, 2, 4, 2, 1, 2, 3, 4, 1, 1, 2, 4, 1, 2, 4, 1, 3, 4, 2, 4, 4, 2, 3, 4, 4, 1, 2, 3, 4, 2, 3, 4, 2, 1, 4, 1, 2, 3, 1, 3, 3, 1, 3, 2, 3, 1, 2, 3, 4, 4, 4, 2, 2, 4, 2, 4, 1, 3, 4, 1, 2, 3, 4, 1, 2, 1, 4, 2, 3, 4, 4, 1, 4, 1, 1, 4, 4, 1, 2, 4, 1, 2, 1, 2, 3, 4, 1, 3, 4, 1, 1, 3, 1, 2, 4, 1, 3, 2, 1, 2, 4, 3, 1, 3, 4, 2, 3, 1, 2, 4, 2, 4, 1, 3, 4, 3, 1, 1, 2, 3, 3, 2, 1, 2, 4, 1, 3, 1, 4, 1, 2, 4, 2, 4, 4, 1, 2, 3, 4, 1, 3, 1, 2, 3, 4, 1, 3, 4, 2, 4, 1, 2, 3, 4, 1, 2, 3, 4, 1, 3, 4, 1, 4, 1, 2, 4, 1, 2, 4, 3, 1, 3, 3, 4, 3, 4, 4, 1, 2, 4, 2, 1, 3, 2, 3, 2, 2, 3, 4, 1, 3, 4, 3, 2, 1, 2, 4, 4, 1, 2, 3, 4, 1, 3, 4, 4, 1, 1, 2, 3, 4, 1, 2, 1, 2, 4, 4, 2, 3, 1, 2, 1, 2, 3, 4, 1, 3, 4, 2, 3, 1, 2, 3, 4], \"Freq\": [0.03797498345375061, 0.9493745565414429, 0.962049126625061, 0.0356314517557621, 0.9956055283546448, 0.975510835647583, 0.007995990104973316, 0.007995990104973316, 0.007995990104973316, 0.9894720911979675, 0.9796800017356873, 0.9927507638931274, 0.772468626499176, 0.20856653153896332, 0.007724686525762081, 0.9781841039657593, 0.9923161268234253, 0.9714531898498535, 0.991296648979187, 0.07965134084224701, 0.028964122757315636, 0.8834057450294495, 0.007241030689328909, 0.9879883527755737, 0.02284293994307518, 0.9822463989257812, 0.9932490587234497, 0.037155814468860626, 0.9598585367202759, 0.092489093542099, 0.9063931107521057, 0.018217826262116432, 0.7924754619598389, 0.19128718972206116, 0.9948519468307495, 0.9731610417366028, 0.3522641360759735, 0.3219618499279022, 0.3219618499279022, 0.9565517902374268, 0.04483836516737938, 0.9843258261680603, 0.18152514100074768, 0.6483040452003479, 0.16423703730106354, 0.9688214659690857, 0.016996867954730988, 0.9743353724479675, 0.984894871711731, 0.09167585521936417, 0.9036620259284973, 0.32973453402519226, 0.45655548572540283, 0.06594690680503845, 0.15218517184257507, 0.9790543913841248, 0.9793102145195007, 0.9687028527259827, 0.9817050099372864, 0.4807802438735962, 0.5016837120056152, 0.015677616000175476, 0.02492467314004898, 0.9720622301101685, 0.27128204703330994, 0.4223368167877197, 0.3021095395088196, 0.006165500730276108, 0.9623963832855225, 0.027366310358047485, 0.9578208923339844, 0.665823221206665, 0.3329116106033325, 0.9863221049308777, 0.9744157791137695, 0.984531819820404, 0.009448738768696785, 0.9826688766479492, 0.9739007949829102, 0.01947801560163498, 0.37002336978912354, 0.6283416152000427, 0.2707024812698364, 0.1824299395084381, 0.5472897887229919, 0.9931643605232239, 0.9653410315513611, 0.09216514229774475, 0.4147431552410126, 0.25674575567245483, 0.23699608445167542, 0.9928314685821533, 0.9722302556037903, 0.9831310510635376, 0.7544212937355042, 0.24041998386383057, 0.9616241455078125, 0.9947253465652466, 0.07405009865760803, 0.9203369617462158, 0.2244427502155304, 0.24433009326457977, 0.16762180626392365, 0.3608130216598511, 0.9807032942771912, 0.33813905715942383, 0.2817825376987457, 0.3794671595096588, 0.9985650777816772, 0.8218910098075867, 0.16437819600105286, 0.9867588877677917, 0.9890072345733643, 0.8712325692176819, 0.12839217483997345, 0.9644885659217834, 0.9893279075622559, 0.016630060970783234, 0.9811736345291138, 0.7088298201560974, 0.28782787919044495, 0.2253342866897583, 0.6858000159263611, 0.02939142845571041, 0.06858000159263611, 0.9841374158859253, 0.016266733407974243, 0.008133366703987122, 0.2230965793132782, 0.10794995725154877, 0.6692897081375122, 0.7951253056526184, 0.19368436932563782, 0.9937758445739746, 0.9763579368591309, 0.02503715083003044, 0.9514117240905762, 0.9914876222610474, 0.3122997581958771, 0.0038085337728261948, 0.19804376363754272, 0.48749232292175293, 0.9761738777160645, 0.9907093644142151, 0.9882289171218872, 0.01620047353208065, 0.7960965633392334, 0.2032587081193924, 0.5213849544525146, 0.013542466796934605, 0.23699317872524261, 0.22345070540905, 0.5511600971221924, 0.12390419840812683, 0.15381211042404175, 0.1709023416042328, 0.9934338331222534, 0.028469868004322052, 0.9679754972457886, 0.9928492903709412, 0.025551583617925644, 0.10220633447170258, 0.4152132570743561, 0.4599285125732422, 0.01823786087334156, 0.6930387020111084, 0.28268682956695557, 0.9860683083534241, 0.012806081213057041, 0.2194957137107849, 0.04115544632077217, 0.7407979965209961, 0.9592915177345276, 0.23674748837947845, 0.5617737174034119, 0.2006334662437439, 0.9666638970375061, 0.9911396503448486, 0.6526467800140381, 0.23715895414352417, 0.10846805572509766, 0.9795376062393188, 0.27054694294929504, 0.4999236762523651, 0.22937674820423126, 0.9935708045959473, 0.34661170840263367, 0.629677951335907, 0.011553723365068436, 0.011553723365068436, 0.9794639945030212, 0.9649811387062073, 0.015819363296031952, 0.015819363296031952, 0.11261472851037979, 0.007038420531898737, 0.8798025846481323, 0.5081942677497864, 0.38783249258995056, 0.10030150413513184, 0.9730862379074097, 0.9709218740463257, 0.9760220646858215, 0.028164906427264214, 0.957606852054596, 0.9705924987792969, 0.9844903945922852, 0.04471396654844284, 0.5151826739311218, 0.34021496772766113, 0.10109244287014008, 0.014142611995339394, 0.6116679310798645, 0.37124356627464294, 0.9651714563369751, 0.9773839712142944, 0.985270619392395, 0.7476679682731628, 0.24397586286067963, 0.007870188914239407, 0.08530428260564804, 0.9170210361480713, 0.9853761792182922, 0.9930793046951294, 0.9749463796615601, 0.014571127481758595, 0.976265549659729, 0.023186208680272102, 0.46372419595718384, 0.3072172701358795, 0.20287932455539703, 0.9871073961257935, 0.9842070937156677, 0.9619058966636658, 0.8594154119491577, 0.12277363240718842, 0.6863477826118469, 0.31351688504219055, 0.24517834186553955, 0.5039777159690857, 0.24971868097782135, 0.3087847828865051, 0.3338213860988617, 0.1627379208803177, 0.19612005352973938, 0.19145962595939636, 0.8061457872390747, 0.025778064504265785, 0.9795664548873901, 0.9693527221679688, 0.9899308681488037, 0.00791944656521082, 0.9776849150657654, 0.8135359287261963, 0.1877390593290329, 0.9699702858924866, 0.14981038868427277, 0.8322799205780029, 0.9855059385299683, 0.01096732821315527, 0.298311322927475, 0.6909416317939758, 0.9669002294540405, 0.973658561706543, 0.4162108600139618, 0.28039467334747314, 0.10952917486429214, 0.19277134537696838, 0.9860111474990845, 0.7913262844085693, 0.2110203504562378, 0.989915132522583, 0.8855327367782593, 0.10024898499250412, 0.09022224694490433, 0.9022224545478821, 0.9708940982818604, 0.17127931118011475, 0.8221406936645508, 0.9809761643409729, 0.20070213079452515, 0.5696398615837097, 0.23021715879440308, 0.9918388724327087, 0.9728417992591858, 0.001739630475640297, 0.9985479116439819, 0.9735081791877747, 0.015959151089191437, 0.01197131909430027, 0.19154110550880432, 0.7901070713996887, 0.9864421486854553, 0.9823864698410034, 0.1448354423046112, 0.15113264322280884, 0.7052856683731079, 0.992508590221405, 0.9790343642234802, 0.6612361669540405, 0.2715791165828705, 0.06494283676147461, 0.9849100708961487, 0.9792319536209106, 0.07901117205619812, 0.8954599499702454, 0.01316852867603302, 0.9809057712554932, 0.01751617342233658, 0.9909524321556091, 0.9906113147735596, 0.1256648600101471, 0.20644941926002502, 0.6732046604156494, 0.9921026825904846, 0.9632004499435425, 0.9711198806762695, 0.32722416520118713, 0.008611162193119526, 0.22389021515846252, 0.4391692876815796, 0.9791274070739746, 0.9760613441467285, 0.008080624975264072, 0.6302887797355652, 0.008080624975264072, 0.3555475175380707, 0.09486008435487747, 0.6911234855651855, 0.21004733443260193, 0.14195679128170013, 0.8359677791595459, 0.22387520968914032, 0.08631333708763123, 0.43156668543815613, 0.2562427222728729, 0.21904918551445007, 0.33907613158226013, 0.2130478322505951, 0.22805121541023254, 0.990919291973114, 0.9778873324394226, 0.01051491778343916, 0.25038138031959534, 0.7392212748527527, 0.028856463730335236, 0.3029928505420685, 0.6709127426147461, 0.4137069284915924, 0.12044631689786911, 0.46083807945251465, 0.9926522374153137, 0.9707106351852417, 0.9752203822135925, 0.9900141954421997, 0.9795889258384705, 0.12380235642194748, 0.8666164875030518, 0.9737391471862793, 0.2957228720188141, 0.27000781893730164, 0.42858386039733887, 0.9894022345542908, 0.9870079755783081, 0.9765426516532898, 0.9944213032722473, 0.9936827421188354, 0.9666383862495422, 0.899214506149292, 0.09891359508037567, 0.9866383075714111, 0.9914323091506958, 0.724440336227417, 0.27166512608528137, 0.9756326079368591, 0.9842116236686707, 0.6414575576782227, 0.14647455513477325, 0.21213556826114655, 0.9854838848114014, 0.6266453862190247, 0.1466616839170456, 0.006666440051048994, 0.2199925184249878, 0.18945418298244476, 0.18945418298244476, 0.6082476377487183, 0.9836726784706116, 0.9880913496017456, 0.0027303907554596663, 0.5679212808609009, 0.4232105612754822, 0.0054607815109193325, 0.19990317523479462, 0.7871187329292297, 0.8143859505653381, 0.17058084905147552, 0.011005216278135777, 0.9740317463874817, 0.024636825546622276, 0.9608361721038818, 0.08949699252843857, 0.8949699401855469, 0.0835702046751976, 0.4952308237552643, 0.10833173990249634, 0.31261447072029114, 0.22775976359844208, 0.5355432033538818, 0.23391543328762054, 0.937066912651062, 0.05823579803109169, 0.17923177778720856, 0.672119140625, 0.014935980550944805, 0.13442382216453552], \"Term\": [\"abuse\", \"abuse\", \"accident\", \"accident\", \"aceh\", \"act\", \"act\", \"act\", \"act\", \"action\", \"afl\", \"aged\", \"air\", \"air\", \"air\", \"aired\", \"airport\", \"alice\", \"alleged\", \"anti\", \"anti\", \"anti\", \"anti\", \"anzac\", \"arsenal\", \"arsenal\", \"assault\", \"attack\", \"attack\", \"australia\", \"australia\", \"australian\", \"australian\", \"australian\", \"award\", \"baby\", \"back\", \"back\", \"back\", \"baghdad\", \"baghdad\", \"bail\", \"begin\", \"begin\", \"begin\", \"bill\", \"bill\", \"blair\", \"blue\", \"bomb\", \"bomb\", \"boost\", \"boost\", \"boost\", \"boost\", \"bos\", \"bracks\", \"brazil\", \"bronco\", \"budget\", \"budget\", \"budget\", \"building\", \"building\", \"call\", \"call\", \"call\", \"call\", \"cannabis\", \"cap\", \"cap\", \"car\", \"car\", \"care\", \"carr\", \"central\", \"centre\", \"centre\", \"challenge\", \"challenge\", \"change\", \"change\", \"charge\", \"charge\", \"charge\", \"china\", \"civilian\", \"claim\", \"claim\", \"claim\", \"claim\", \"cleared\", \"closure\", \"club\", \"coast\", \"coast\", \"commission\", \"concern\", \"continues\", \"continues\", \"council\", \"council\", \"council\", \"council\", \"councillor\", \"court\", \"court\", \"court\", \"crash\", \"crean\", \"crean\", \"cross\", \"crow\", \"cup\", \"cup\", \"custody\", \"cut\", \"dead\", \"dead\", \"death\", \"death\", \"doctor\", \"doctor\", \"doctor\", \"doctor\", \"drought\", \"drought\", \"drought\", \"drug\", \"drug\", \"drug\", \"dy\", \"dy\", \"easter\", \"edge\", \"event\", \"event\", \"explosion\", \"face\", \"face\", \"face\", \"face\", \"farm\", \"farmer\", \"federal\", \"federal\", \"fight\", \"fight\", \"final\", \"final\", \"final\", \"final\", \"fire\", \"fire\", \"fire\", \"fire\", \"fishing\", \"flood\", \"flood\", \"focus\", \"force\", \"force\", \"force\", \"force\", \"found\", \"found\", \"found\", \"fund\", \"fund\", \"future\", \"future\", \"future\", \"general\", \"get\", \"get\", \"get\", \"girl\", \"gold\", \"govt\", \"govt\", \"govt\", \"grand\", \"group\", \"group\", \"group\", \"hawk\", \"health\", \"health\", \"health\", \"health\", \"hearing\", \"hill\", \"hill\", \"hill\", \"home\", \"home\", \"home\", \"hospital\", \"hospital\", \"hospital\", \"host\", \"human\", \"hunt\", \"indian\", \"indian\", \"interest\", \"investigate\", \"iraq\", \"iraq\", \"iraq\", \"iraq\", \"iraqi\", \"iraqi\", \"iraqi\", \"island\", \"israeli\", \"issue\", \"job\", \"job\", \"job\", \"killed\", \"killed\", \"killer\", \"korea\", \"lanka\", \"last\", \"last\", \"lead\", \"lead\", \"lead\", \"lead\", \"leeds\", \"lion\", \"list\", \"loss\", \"loss\", \"make\", \"make\", \"man\", \"man\", \"man\", \"may\", \"may\", \"may\", \"may\", \"meet\", \"meet\", \"men\", \"men\", \"merger\", \"missing\", \"missing\", \"money\", \"murder\", \"murder\", \"murray\", \"name\", \"name\", \"nauru\", \"new\", \"new\", \"new\", \"next\", \"northern\", \"nsw\", \"nsw\", \"nsw\", \"nsw\", \"nuclear\", \"offer\", \"offer\", \"opp\", \"palestinian\", \"palestinian\", \"park\", \"park\", \"patient\", \"peace\", \"peace\", \"place\", \"plan\", \"plan\", \"plan\", \"planned\", \"pledge\", \"police\", \"police\", \"post\", \"post\", \"power\", \"power\", \"power\", \"practice\", \"president\", \"probe\", \"probe\", \"probe\", \"push\", \"qantas\", \"qld\", \"qld\", \"qld\", \"quake\", \"quits\", \"race\", \"race\", \"race\", \"rain\", \"rain\", \"ready\", \"real\", \"record\", \"record\", \"record\", \"regional\", \"remain\", \"remains\", \"report\", \"report\", \"report\", \"report\", \"restriction\", \"resume\", \"return\", \"return\", \"return\", \"return\", \"road\", \"road\", \"road\", \"run\", \"run\", \"sars\", \"sars\", \"sars\", \"sars\", \"say\", \"say\", \"say\", \"say\", \"scheme\", \"search\", \"search\", \"second\", \"second\", \"service\", \"service\", \"service\", \"set\", \"set\", \"set\", \"soldier\", \"sought\", \"sri\", \"stand\", \"station\", \"stay\", \"stay\", \"surrender\", \"take\", \"take\", \"take\", \"target\", \"tax\", \"teenager\", \"time\", \"toll\", \"tough\", \"tour\", \"tour\", \"tribute\", \"troop\", \"two\", \"two\", \"underway\", \"uni\", \"urged\", \"urged\", \"urged\", \"use\", \"vic\", \"vic\", \"vic\", \"vic\", \"victim\", \"victim\", \"victim\", \"victoria\", \"violence\", \"war\", \"war\", \"war\", \"war\", \"warns\", \"warns\", \"water\", \"water\", \"water\", \"weapon\", \"well\", \"well\", \"wheat\", \"wheat\", \"win\", \"win\", \"win\", \"win\", \"woman\", \"woman\", \"woman\", \"world\", \"world\", \"year\", \"year\", \"year\", \"year\"]}, \"R\": 30, \"lambda.step\": 0.01, \"plot.opts\": {\"xlab\": \"PC1\", \"ylab\": \"PC2\"}, \"topic.order\": [3, 2, 4, 1]};\n",
       "\n",
       "function LDAvis_load_lib(url, callback){\n",
       "  var s = document.createElement('script');\n",
       "  s.src = url;\n",
       "  s.async = true;\n",
       "  s.onreadystatechange = s.onload = callback;\n",
       "  s.onerror = function(){console.warn(\"failed to load library \" + url);};\n",
       "  document.getElementsByTagName(\"head\")[0].appendChild(s);\n",
       "}\n",
       "\n",
       "if(typeof(LDAvis) !== \"undefined\"){\n",
       "   // already loaded: just create the visualization\n",
       "   !function(LDAvis){\n",
       "       new LDAvis(\"#\" + \"ldavis_el62941398587653719841417584278\", ldavis_el62941398587653719841417584278_data);\n",
       "   }(LDAvis);\n",
       "}else if(typeof define === \"function\" && define.amd){\n",
       "   // require.js is available: use it to load d3/LDAvis\n",
       "   require.config({paths: {d3: \"https://cdnjs.cloudflare.com/ajax/libs/d3/3.5.5/d3.min\"}});\n",
       "   require([\"d3\"], function(d3){\n",
       "      window.d3 = d3;\n",
       "      LDAvis_load_lib(\"https://cdn.rawgit.com/bmabey/pyLDAvis/files/ldavis.v1.0.0.js\", function(){\n",
       "        new LDAvis(\"#\" + \"ldavis_el62941398587653719841417584278\", ldavis_el62941398587653719841417584278_data);\n",
       "      });\n",
       "    });\n",
       "}else{\n",
       "    // require.js not available: dynamically load d3 & LDAvis\n",
       "    LDAvis_load_lib(\"https://cdnjs.cloudflare.com/ajax/libs/d3/3.5.5/d3.min.js\", function(){\n",
       "         LDAvis_load_lib(\"https://cdn.rawgit.com/bmabey/pyLDAvis/files/ldavis.v1.0.0.js\", function(){\n",
       "                 new LDAvis(\"#\" + \"ldavis_el62941398587653719841417584278\", ldavis_el62941398587653719841417584278_data);\n",
       "            })\n",
       "         });\n",
       "}\n",
       "</script>"
      ],
      "text/plain": [
       "PreparedData(topic_coordinates=              x         y  topics  cluster       Freq\n",
       "topic                                                \n",
       "2     -0.060578 -0.087991       1        1  26.130951\n",
       "1     -0.156785 -0.052260       2        1  25.130535\n",
       "3      0.211110 -0.070297       3        1  24.788008\n",
       "0      0.006253  0.210548       4        1  23.950499, topic_info=     Category        Freq     Term       Total  loglift  logprob\n",
       "274   Default  574.000000   police  574.000000  30.0000  30.0000\n",
       "436   Default  455.000000      new  455.000000  29.0000  29.0000\n",
       "187   Default  543.000000     govt  543.000000  28.0000  28.0000\n",
       "3498  Default  200.000000  baghdad  200.000000  27.0000  27.0000\n",
       "49    Default  366.000000      war  366.000000  26.0000  26.0000\n",
       "...       ...         ...      ...         ...      ...      ...\n",
       "94     Topic4   61.382370   victim  100.288101   0.9383  -5.9786\n",
       "60     Topic4   77.531212     plan  338.810547  -0.0456  -5.7450\n",
       "466    Topic4   75.971199      say  333.258484  -0.0494  -5.7653\n",
       "421    Topic4   71.529900    claim  303.802490  -0.0171  -5.8256\n",
       "163    Topic4   66.895142    death  232.778015   0.1822  -5.8926\n",
       "\n",
       "[276 rows x 6 columns], token_table=      Topic      Freq      Term\n",
       "term                           \n",
       "2401      1  0.037975     abuse\n",
       "2401      4  0.949375     abuse\n",
       "1083      3  0.962049  accident\n",
       "1083      4  0.035631  accident\n",
       "5959      3  0.995606      aceh\n",
       "...     ...       ...       ...\n",
       "487       3  0.058236     world\n",
       "1351      1  0.179232      year\n",
       "1351      2  0.672119      year\n",
       "1351      3  0.014936      year\n",
       "1351      4  0.134424      year\n",
       "\n",
       "[416 rows x 3 columns], R=30, lambda_step=0.01, plot_opts={'xlab': 'PC1', 'ylab': 'PC2'}, topic_order=[3, 2, 4, 1])"
      ]
     },
     "execution_count": 77,
     "metadata": {},
     "output_type": "execute_result"
    }
   ],
   "source": [
    "import pyLDAvis.gensim\n",
    "pyLDAvis.enable_notebook()\n",
    "vis = pyLDAvis.gensim.prepare(lda_model, bow_corpus, dic)\n",
    "vis"
   ]
  },
  {
   "cell_type": "markdown",
   "metadata": {},
   "source": [
    "Things to bear in mind:\n",
    "- area of each cirlce represents the importance of the topic relative to the corpus\n",
    "- distance between the center of the circles indicates the similarity between the topis\n",
    "- the histogram on the righ side shows the top 30 relevant words for each topic."
   ]
  },
  {
   "cell_type": "markdown",
   "metadata": {},
   "source": [
    "Wordcload. It's a great way to represent text data."
   ]
  },
  {
   "cell_type": "code",
   "execution_count": 84,
   "metadata": {},
   "outputs": [
    {
     "data": {
      "image/png": "[encoded data removed]",
      "text/plain": [
       "<Figure size 864x864 with 1 Axes>"
      ]
     },
     "metadata": {
      "needs_background": "light"
     },
     "output_type": "display_data"
    }
   ],
   "source": [
    "from wordcloud import WordCloud, STOPWORDS\n",
    "stopwords = set(STOPWORDS)\n",
    "\n",
    "def show_wordcloud(data):\n",
    "    wordcloud = WordCloud(background_color = 'white', stopwords = stopwords, max_words=25, max_font_size=30, scale = 3, random_state=3)\n",
    "    \n",
    "    wordcloud = wordcloud.generate(str(data))\n",
    "    \n",
    "    fig = plt.figure(1, figsize=(12, 12))\n",
    "    plt.axis('off')\n",
    "    \n",
    "    plt.imshow(wordcloud)\n",
    "    plt.show()\n",
    "    \n",
    "show_wordcloud(corpus)"
   ]
  },
  {
   "cell_type": "markdown",
   "metadata": {},
   "source": [
    "Cleanse the data and change the setting of the wordcloud. check also https://towardsdatascience.com/creating-word-clouds-with-python-f2077c8de5cc"
   ]
  },
  {
   "cell_type": "markdown",
   "metadata": {},
   "source": [
    "Sentiment analysis to determine if the tet is positive, negative or neutral. \n",
    "Some useful links: \n",
    "https://towardsdatascience.com/sentiment-analysis-with-python-part-1-5ce197074184\n",
    "https://www.datacamp.com/community/tutorials/simplifying-sentiment-analysis-python\n",
    "https://monkeylearn.com/blog/sentiment-analysis-with-python/"
   ]
  },
  {
   "cell_type": "markdown",
   "metadata": {},
   "source": [
    "Using Textblob for sentiment analysis.\n",
    "\n",
    "The sentiment function of TextBlob returns two properties:\n",
    "\n",
    "- polarity: floating point number that lies in the range of [-1,1], where 1 means positive statement and -1 means a negative statement.\n",
    "- subjectivity: refers to how someone's jugdment is shaped by personal opinions and feelings. Floating point value between [0,1]"
   ]
  },
  {
   "cell_type": "code",
   "execution_count": 86,
   "metadata": {},
   "outputs": [],
   "source": [
    "from textblob import TextBlob"
   ]
  },
  {
   "cell_type": "code",
   "execution_count": 109,
   "metadata": {},
   "outputs": [
    {
     "data": {
      "text/plain": [
       "<matplotlib.axes._subplots.AxesSubplot at 0x7f335b7096d0>"
      ]
     },
     "execution_count": 109,
     "metadata": {},
     "output_type": "execute_result"
    },
    {
     "data": {
      "image/png": "[encoded data removed]",
      "text/plain": [
       "<Figure size 432x288 with 1 Axes>"
      ]
     },
     "metadata": {
      "needs_background": "light"
     },
     "output_type": "display_data"
    }
   ],
   "source": [
    "def polarity(text):\n",
    "    return TextBlob(text).sentiment.polarity\n",
    "\n",
    "news['polarity_score']=news['headline_text'].\\\n",
    "    apply(lambda x: polarity(x))\n",
    "news['polarity_score'].hist()"
   ]
  },
  {
   "cell_type": "code",
   "execution_count": 118,
   "metadata": {},
   "outputs": [
    {
     "data": {
      "text/plain": [
       "<bound method NDFrame.head of        publish_date                                      headline_text  \\\n",
       "0          20030219  aba decides against community broadcasting lic...   \n",
       "1          20030219     act fire witnesses must be aware of defamation   \n",
       "2          20030219     a g calls for infrastructure protection summit   \n",
       "3          20030219           air nz staff in aust strike for pay rise   \n",
       "4          20030219      air nz strike to affect australian travellers   \n",
       "...             ...                                                ...   \n",
       "19995      20030527         analyst blames govt for abc digital demise   \n",
       "19996      20030527               application for second wagga brothel   \n",
       "19997      20030527                     aussie dollar hits new heights   \n",
       "19998      20030527          australian coach leaves french club brive   \n",
       "19999      20030527  australia will always be an al qaeda target ex...   \n",
       "\n",
       "       polarity_score  polarity  \n",
       "0            0.000000   neutral  \n",
       "1            0.250000  positive  \n",
       "2            0.000000   neutral  \n",
       "3            0.000000   neutral  \n",
       "4            0.000000   neutral  \n",
       "...               ...       ...  \n",
       "19995        0.000000   neutral  \n",
       "19996        0.000000   neutral  \n",
       "19997        0.136364  positive  \n",
       "19998        0.000000   neutral  \n",
       "19999        0.000000   neutral  \n",
       "\n",
       "[20000 rows x 4 columns]>"
      ]
     },
     "execution_count": 118,
     "metadata": {},
     "output_type": "execute_result"
    }
   ],
   "source": [
    "news.head"
   ]
  },
  {
   "cell_type": "code",
   "execution_count": 120,
   "metadata": {},
   "outputs": [
    {
     "data": {
      "text/plain": [
       "Sentiment(polarity=-0.8, subjectivity=0.9)"
      ]
     },
     "execution_count": 120,
     "metadata": {},
     "output_type": "execute_result"
    }
   ],
   "source": [
    "TextBlob('bloody massacre').sentiment"
   ]
  },
  {
   "cell_type": "markdown",
   "metadata": {},
   "source": [
    "The above plot indicates that the majority of headlines have polarity score between 0 and 0.25. They are neutral with more leaning toward positive sentiments."
   ]
  },
  {
   "cell_type": "code",
   "execution_count": 111,
   "metadata": {},
   "outputs": [],
   "source": [
    "def sentiment(x):\n",
    "    if x<0:\n",
    "        return 'negative'\n",
    "    elif x==0:\n",
    "        return 'neutral'\n",
    "    else:\n",
    "        return 'positive'\n",
    "    \n",
    "news['polarity']=news['polarity_score'].\\\n",
    "    map(lambda x: sentiment(x))"
   ]
  },
  {
   "cell_type": "code",
   "execution_count": 112,
   "metadata": {},
   "outputs": [
    {
     "data": {
      "text/plain": [
       "<BarContainer object of 3 artists>"
      ]
     },
     "execution_count": 112,
     "metadata": {},
     "output_type": "execute_result"
    },
    {
     "data": {
      "image/png": "[encoded data removed]",
      "text/plain": [
       "<Figure size 432x288 with 1 Axes>"
      ]
     },
     "metadata": {
      "needs_background": "light"
     },
     "output_type": "display_data"
    }
   ],
   "source": [
    "plt.bar(news.polarity.value_counts().index,\n",
    "       news.polarity.value_counts())"
   ]
  },
  {
   "cell_type": "code",
   "execution_count": 121,
   "metadata": {},
   "outputs": [
    {
     "data": {
      "text/plain": [
       "1     act fire witnesses must be aware of defamation\n",
       "5                  ambitious olsson wins triple jump\n",
       "6         antic delighted with record breaking barca\n",
       "18        bryant leads lakers to double overtime win\n",
       "26      commonwealth bank cuts fixed home loan rates\n",
       "Name: headline_text, dtype: object"
      ]
     },
     "execution_count": 121,
     "metadata": {},
     "output_type": "execute_result"
    }
   ],
   "source": [
    "news[news['polarity']=='positive']['headline_text'].head()"
   ]
  },
  {
   "cell_type": "code",
   "execution_count": 122,
   "metadata": {},
   "outputs": [
    {
     "data": {
      "text/plain": [
       "7     aussie qualifier stosur wastes four memphis match\n",
       "23               carews freak goal leaves roma in ruins\n",
       "28     council chief executive fails to secure position\n",
       "34                   dargo fire threat expected to rise\n",
       "40        direct anger at govt not soldiers crean urges\n",
       "Name: headline_text, dtype: object"
      ]
     },
     "execution_count": 122,
     "metadata": {},
     "output_type": "execute_result"
    }
   ],
   "source": [
    "news[news['polarity']=='negative']['headline_text'].head()"
   ]
  },
  {
   "cell_type": "markdown",
   "metadata": {},
   "source": [
    "Above, some positive and negative headlines"
   ]
  },
  {
   "cell_type": "markdown",
   "metadata": {},
   "source": [
    "Now, we are going to use Vader Sentient Analisis which is said to be working better in detecting negative sentiment.\n",
    "returns a dictionary that contains the probabilities of the text for being positive, negative and neutral."
   ]
  },
  {
   "cell_type": "code",
   "execution_count": 123,
   "metadata": {},
   "outputs": [],
   "source": [
    "from nltk.sentiment.vader import SentimentIntensityAnalyzer"
   ]
  },
  {
   "cell_type": "code",
   "execution_count": 124,
   "metadata": {},
   "outputs": [
    {
     "name": "stderr",
     "output_type": "stream",
     "text": [
      "[nltk_data] Downloading package vader_lexicon to\n",
      "[nltk_data]     /home/mateusz/nltk_data...\n"
     ]
    },
    {
     "data": {
      "text/plain": [
       "<BarContainer object of 3 artists>"
      ]
     },
     "execution_count": 124,
     "metadata": {},
     "output_type": "execute_result"
    },
    {
     "data": {
      "image/png": "[encoded data removed]",
      "text/plain": [
       "<Figure size 432x288 with 1 Axes>"
      ]
     },
     "metadata": {
      "needs_background": "light"
     },
     "output_type": "display_data"
    }
   ],
   "source": [
    "nltk.download('vader_lexicon')\n",
    "sid = SentimentIntensityAnalyzer()\n",
    "\n",
    "def get_vader_score(sent):\n",
    "    #polarity score return dictionary\n",
    "    ss= sid.polarity_scores(sent)\n",
    "    #return ss\n",
    "    return np.argmax(list(ss.values())[:-1])\n",
    "\n",
    "news['polarity']=news['headline_text'].\\\n",
    "    map(lambda x: get_vader_score(x))\n",
    "polarity=news['polarity'].replace({0:'negatove', 1:'neutral', 2:'positive'})\n",
    "\n",
    "plt.bar(polarity.value_counts().index,\n",
    "        polarity.value_counts())"
   ]
  },
  {
   "cell_type": "markdown",
   "metadata": {},
   "source": [
    "Comparing Vader and TextBlob. Vader classifies even more headlines as neutral"
   ]
  },
  {
   "cell_type": "markdown",
   "metadata": {},
   "source": [
    "Named Entity Recognition"
   ]
  },
  {
   "cell_type": "markdown",
   "metadata": {},
   "source": [
    "Information extraction method in which entities that are present in the text are classified into predefined entity types like \"person\", \"Place\",\"Organization\" etc.\n"
   ]
  },
  {
   "cell_type": "markdown",
   "metadata": {},
   "source": [
    "There are three standard libraries for Named Entity recognition:\n",
    "    - Standford NER\n",
    "    - spaCy\n",
    "    - NLTK"
   ]
  },
  {
   "cell_type": "markdown",
   "metadata": {},
   "source": [
    "Here, we are going to use spaCy.\n",
    "First in command window type it: pip install spacy \n",
    "\n",
    "and then\n",
    "\n",
    "\n",
    "python -m spacy download en_core_web_sm"
   ]
  },
  {
   "cell_type": "code",
   "execution_count": 132,
   "metadata": {},
   "outputs": [],
   "source": [
    "import spacy\n",
    "\n",
    "nlp = spacy.load(\"en\")"
   ]
  },
  {
   "cell_type": "markdown",
   "metadata": {},
   "source": [
    "Let's run the NER on our news headlines and store the entity types"
   ]
  },
  {
   "cell_type": "code",
   "execution_count": 135,
   "metadata": {},
   "outputs": [],
   "source": [
    "def ner(text):\n",
    "    doc=nlp(text)\n",
    "    return [x.label_ for x in doc.ents]\n",
    "\n",
    "ent=news[\"headline_text\"].\\\n",
    "    apply(lambda x: ner(x))\n",
    "ent=[x for sub in ent for x in sub]\n",
    "\n",
    "counter = Counter(ent)\n",
    "count=counter.most_common()"
   ]
  },
  {
   "cell_type": "markdown",
   "metadata": {},
   "source": [
    "Visualize the entity frequencies"
   ]
  },
  {
   "cell_type": "code",
   "execution_count": 140,
   "metadata": {},
   "outputs": [
    {
     "data": {
      "text/plain": [
       "<matplotlib.axes._subplots.AxesSubplot at 0x7f3335bfca10>"
      ]
     },
     "execution_count": 140,
     "metadata": {},
     "output_type": "execute_result"
    },
    {
     "data": {
      "image/png": "[encoded data removed]",
      "text/plain": [
       "<Figure size 1440x720 with 1 Axes>"
      ]
     },
     "metadata": {
      "needs_background": "light"
     },
     "output_type": "display_data"
    }
   ],
   "source": [
    "x,y=map(list,zip(*count)) #change figsize\n",
    "plt.figure(figsize=(20,10))\n",
    "sns.barplot(x=x,y=y)"
   ]
  },
  {
   "cell_type": "markdown",
   "metadata": {},
   "source": [
    "Vizualizing the most common tokes per entity."
   ]
  },
  {
   "cell_type": "code",
   "execution_count": 139,
   "metadata": {},
   "outputs": [
    {
     "data": {
      "text/plain": [
       "<matplotlib.axes._subplots.AxesSubplot at 0x7f333a245150>"
      ]
     },
     "execution_count": 139,
     "metadata": {},
     "output_type": "execute_result"
    },
    {
     "data": {
      "image/png": "[encoded data removed]",
      "text/plain": [
       "<Figure size 432x288 with 1 Axes>"
      ]
     },
     "metadata": {
      "needs_background": "light"
     },
     "output_type": "display_data"
    }
   ],
   "source": [
    "def ner(text,ent=\"GPE\"):\n",
    "    doc=nlp(text)\n",
    "    return [x.text for x in doc.ents if x.label_ == ent]\n",
    "\n",
    "gpe=news['headline_text'].apply(lambda x: ner(x))\n",
    "gpe=[i for x in gpe for i in x]\n",
    "counter = Counter(gpe)\n",
    "\n",
    "x,y=map(list,zip(*counter.most_common(10)))\n",
    "sns.barplot(y,x)"
   ]
  },
  {
   "cell_type": "markdown",
   "metadata": {},
   "source": [
    "IDEA: plot sentiment associated with a person, place etc."
   ]
  },
  {
   "cell_type": "code",
   "execution_count": 141,
   "metadata": {},
   "outputs": [
    {
     "data": {
      "text/plain": [
       "<matplotlib.axes._subplots.AxesSubplot at 0x7f3335c532d0>"
      ]
     },
     "execution_count": 141,
     "metadata": {},
     "output_type": "execute_result"
    },
    {
     "data": {
      "image/png": "[encoded data removed]",
      "text/plain": [
       "<Figure size 1440x720 with 1 Axes>"
      ]
     },
     "metadata": {
      "needs_background": "light"
     },
     "output_type": "display_data"
    }
   ],
   "source": [
    "per = news['headline_text'].apply(lambda x: ner(x,\"PERSON\"))\n",
    "per=[i for x in per for i in x]\n",
    "counter=Counter(per)\n",
    "\n",
    "x,y=map(list,zip(*counter.most_common(10)))\n",
    "plt.figure(figsize=(20,10))\n",
    "sns.barplot(y,x)"
   ]
  },
  {
   "cell_type": "markdown",
   "metadata": {},
   "source": [
    "CHECK: Models classifies gvt incorrectly."
   ]
  },
  {
   "cell_type": "markdown",
   "metadata": {},
   "source": [
    "Using Parts of Speach Tagging for data exploration"
   ]
  },
  {
   "cell_type": "markdown",
   "metadata": {},
   "source": [
    "Parts of speech (POS) tagging is a method that assigns part of speech labels to words in a sentence. There are eight main parts of speech:\n",
    "\n",
    "    Noun (NN)- Joseph, London, table, cat, teacher, pen, city\n",
    "    Verb (VB)- read, speak, run, eat, play, live, walk, have, like, are, is\n",
    "    Adjective(JJ)- beautiful, happy, sad, young, fun, three\n",
    "    Adverb(RB)- slowly, quietly, very, always, never, too, well, tomorrow\n",
    "    Preposition (IN)- at, on, in, from, with, near, between, about, under\n",
    "    Conjunction (CC)- and, or, but, because, so, yet, unless, since, if\n",
    "    Pronoun(PRP)- I, you, we, they, he, she, it, me, us, them, him, her, this\n",
    "    Interjection (INT)- Ouch! Wow! Great! Help! Oh! Hey! Hi!"
   ]
  },
  {
   "cell_type": "code",
   "execution_count": 143,
   "metadata": {},
   "outputs": [
    {
     "data": {
      "text/plain": [
       "<matplotlib.axes._subplots.AxesSubplot at 0x7f333329a410>"
      ]
     },
     "execution_count": 143,
     "metadata": {},
     "output_type": "execute_result"
    },
    {
     "data": {
      "image/png": "[encoded data removed]",
      "text/plain": [
       "<Figure size 432x288 with 1 Axes>"
      ]
     },
     "metadata": {
      "needs_background": "light"
     },
     "output_type": "display_data"
    }
   ],
   "source": [
    "import nltk\n",
    "def pos(text):\n",
    "    pos=nltk.pos_tag(word_tokenize(text))\n",
    "    pos=list(map(list,zip(*pos)))[1]\n",
    "    return pos\n",
    "\n",
    "tags=news['headline_text'].apply(lambda x: pos(x))\n",
    "tags=[x for l in tags for x in l]\n",
    "counter=Counter(tags)\n",
    "\n",
    "x,y=list(map(list,zip(*counter.most_common(7))))\n",
    "sns.barplot(x=y, y=x)"
   ]
  },
  {
   "cell_type": "markdown",
   "metadata": {},
   "source": [
    "Let's check which single noun occur most frequently in news headlines."
   ]
  },
  {
   "cell_type": "code",
   "execution_count": 144,
   "metadata": {},
   "outputs": [
    {
     "data": {
      "text/plain": [
       "<matplotlib.axes._subplots.AxesSubplot at 0x7f3332ff7790>"
      ]
     },
     "execution_count": 144,
     "metadata": {},
     "output_type": "execute_result"
    },
    {
     "data": {
      "image/png": "[encoded data removed]",
      "text/plain": [
       "<Figure size 432x288 with 1 Axes>"
      ]
     },
     "metadata": {
      "needs_background": "light"
     },
     "output_type": "display_data"
    }
   ],
   "source": [
    "def get_adjs(text):\n",
    "    adj=[]\n",
    "    pos=nltk.pos_tag(word_tokenize(text))\n",
    "    for word, tag in pos:\n",
    "        if tag=='NN':\n",
    "            adj.append(word)\n",
    "    return adj\n",
    "        \n",
    "words=news['headline_text'].apply(lambda x : get_adjs(x))\n",
    "words=[x for l in words for x in l]\n",
    "counter=Counter(words)\n",
    "\n",
    "x,y=list(map(list,zip(*counter.most_common(7))))\n",
    "sns.barplot(x=y, y=x)"
   ]
  },
  {
   "cell_type": "markdown",
   "metadata": {},
   "source": [
    "Exploring through text complexity.\n",
    "Readability index is a numeric value that indicates how difficult (or easy) it is to read and understand a text.\n",
    "\n",
    "Some readability indices:\n",
    "Automated Readability Index (ARI): \tThe output is an approximate representation of the U.S grade level needed to comprehend a text. \t\n",
    "ARI = 4.71 * (characters/words) + 0.5 * (words/sentence) -21.43\n",
    "\n",
    "Flesch Reading Ease (FRE): \tHigher scores indicate material that is easier to read, lower numbers mark harder-to-read passages:\n",
    "- 0-30 College\n",
    "- 50-60 High school\n",
    "- 60+ Fourth grade \tFRE = 206.835 − 1.015 * (total words/total sentences)\n",
    "− 84.6 * (total syllables/ total words)\n",
    "\n",
    "FleschKincaid Grade Level (FKGL): The result is a number that corresponds with a U.S grade level. \t\n",
    "FKGL = 0.39 * (total words/ totalsentences) + 11.8 (total syllables/total words) -15.59\n",
    "\n",
    "Gunning Fog Index (GFI): \tThe result is a number that corresponds with a U.S grade level. \t\n",
    "GFI = 0.4 * (( words/ sentence)+100 * (complex words/ words))"
   ]
  },
  {
   "cell_type": "markdown",
   "metadata": {},
   "source": [
    "We are going to use Textstat that provides implementation of all these text statistics calculation methods.\n",
    "Let's try and implement Flesch Reading Ease index.\n",
    "\n",
    "Before we do it. in your command window type in: pip install textstat"
   ]
  },
  {
   "cell_type": "code",
   "execution_count": 148,
   "metadata": {},
   "outputs": [
    {
     "data": {
      "text/plain": [
       "<matplotlib.axes._subplots.AxesSubplot at 0x7f33327848d0>"
      ]
     },
     "execution_count": 148,
     "metadata": {},
     "output_type": "execute_result"
    },
    {
     "data": {
      "image/png": "[encoded data removed]",
      "text/plain": [
       "<Figure size 432x288 with 1 Axes>"
      ]
     },
     "metadata": {
      "needs_background": "light"
     },
     "output_type": "display_data"
    }
   ],
   "source": [
    "from textstat import flesch_reading_ease\n",
    "\n",
    "news['headline_text'].\\\n",
    "    apply(lambda x: flesch_reading_ease(x)).hist()"
   ]
  },
  {
   "cell_type": "markdown",
   "metadata": {},
   "source": [
    "Almost all of the readability scores fall above 60. This means that an average 11-year-old student can read and understand the news headlines.\n",
    "Let's check all news headlines that have a readability score below 5"
   ]
  },
  {
   "cell_type": "code",
   "execution_count": 150,
   "metadata": {},
   "outputs": [
    {
     "ename": "NameError",
     "evalue": "name 'reading' is not defined",
     "output_type": "error",
     "traceback": [
      "\u001b[0;31m---------------------------------------------------------------------------\u001b[0m",
      "\u001b[0;31mNameError\u001b[0m                                 Traceback (most recent call last)",
      "\u001b[0;32m<ipython-input-150-43c09324e0ad>\u001b[0m in \u001b[0;36m<module>\u001b[0;34m\u001b[0m\n\u001b[0;32m----> 1\u001b[0;31m \u001b[0mx\u001b[0m\u001b[0;34m=\u001b[0m\u001b[0;34m[\u001b[0m\u001b[0mi\u001b[0m \u001b[0;32mfor\u001b[0m \u001b[0mi\u001b[0m \u001b[0;32min\u001b[0m \u001b[0mrange\u001b[0m\u001b[0;34m(\u001b[0m\u001b[0mlen\u001b[0m\u001b[0;34m(\u001b[0m\u001b[0mreading\u001b[0m\u001b[0;34m)\u001b[0m\u001b[0;34m)\u001b[0m \u001b[0;32mif\u001b[0m \u001b[0mreading\u001b[0m\u001b[0;34m[\u001b[0m\u001b[0mi\u001b[0m\u001b[0;34m]\u001b[0m\u001b[0;34m<\u001b[0m \u001b[0;36m5\u001b[0m\u001b[0;34m]\u001b[0m\u001b[0;34m\u001b[0m\u001b[0;34m\u001b[0m\u001b[0m\n\u001b[0m\u001b[1;32m      2\u001b[0m \u001b[0mnews\u001b[0m\u001b[0;34m.\u001b[0m\u001b[0miloc\u001b[0m\u001b[0;34m[\u001b[0m\u001b[0mx\u001b[0m\u001b[0;34m]\u001b[0m\u001b[0;34m[\u001b[0m\u001b[0;34m'headline_text'\u001b[0m\u001b[0;34m]\u001b[0m\u001b[0;34m.\u001b[0m\u001b[0mhead\u001b[0m\u001b[0;34m(\u001b[0m\u001b[0;34m)\u001b[0m\u001b[0;34m\u001b[0m\u001b[0;34m\u001b[0m\u001b[0m\n",
      "\u001b[0;31mNameError\u001b[0m: name 'reading' is not defined"
     ]
    }
   ],
   "source": [
    "x=[i for i in range(len(reading)) if reading[i]< 5]\n",
    "news.iloc[x]['headline_text'].head()"
   ]
  },
  {
   "cell_type": "code",
   "execution_count": null,
   "metadata": {},
   "outputs": [],
   "source": []
  }
 ],
 "metadata": {
  "kernelspec": {
   "display_name": "Python 3",
   "language": "python",
   "name": "python3"
  },
  "language_info": {
   "codemirror_mode": {
    "name": "ipython",
    "version": 3
   },
   "file_extension": ".py",
   "mimetype": "text/x-python",
   "name": "python",
   "nbconvert_exporter": "python",
   "pygments_lexer": "ipython3",
   "version": "3.7.4"
  }
 },
 "nbformat": 4,
 "nbformat_minor": 2
}
